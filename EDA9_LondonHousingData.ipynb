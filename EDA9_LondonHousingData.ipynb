{
  "nbformat": 4,
  "nbformat_minor": 0,
  "metadata": {
    "anaconda-cloud": {},
    "kernelspec": {
      "display_name": "Python [conda root]",
      "language": "python",
      "name": "conda-root-py"
    },
    "language_info": {
      "codemirror_mode": {
        "name": "ipython",
        "version": 3
      },
      "file_extension": ".py",
      "mimetype": "text/x-python",
      "name": "python",
      "nbconvert_exporter": "python",
      "pygments_lexer": "ipython3",
      "version": "3.5.2"
    },
    "colab": {
      "name": "EDA9_LondonHousingData",
      "provenance": [],
      "include_colab_link": true
    }
  },
  "cells": [
    {
      "cell_type": "markdown",
      "metadata": {
        "id": "view-in-github",
        "colab_type": "text"
      },
      "source": [
        "<a href=\"https://colab.research.google.com/github/krishbhowmick/EDA/blob/main/EDA9_LondonHousingData.ipynb\" target=\"_parent\"><img src=\"https://colab.research.google.com/assets/colab-badge.svg\" alt=\"Open In Colab\"/></a>"
      ]
    },
    {
      "cell_type": "markdown",
      "metadata": {
        "id": "qyN8wr3Q9Fn4"
      },
      "source": [
        "## **What are the Python queries that you will use to get the below data points?**\n",
        "\n",
        "\n",
        "Q1. Convert the data type of \"Data\" column to date-time format\n",
        "\n",
        "Q2. Add a new column \"Year\" in the dataframe which contain only year.\n",
        "\n",
        "Q3. Add a new column \"Month\" as 2nd column in the dataframe which contain month only.\n",
        "\n",
        "Q4. Remove column Month and year from the dataframe.\n",
        "\n",
        "Q5. Show all the records where \"No. of records is 0\" and how many such records are there.\n",
        "\n",
        "Q6. What is the maximum & minimum number of \"avg price\" per year in England\n",
        "\n",
        "Q7. What is the maximum & minimum number of \"Crime Reported\" as per area ?\n",
        "\n",
        "Q8. Show the total count of records of each area where avg price is less then 100000 ?"
      ]
    },
    {
      "cell_type": "code",
      "metadata": {
        "id": "E4YS0w2CESp6",
        "colab": {
          "base_uri": "https://localhost:8080/"
        },
        "outputId": "7abd67c5-1c93-49fa-b2a0-9988cd6c4822"
      },
      "source": [
        "# Connect the google drive with google Colab\n",
        "\n",
        "from google.colab import drive\n",
        "drive.mount('/content/drive/')"
      ],
      "execution_count": 4,
      "outputs": [
        {
          "output_type": "stream",
          "text": [
            "Mounted at /content/drive/\n"
          ],
          "name": "stdout"
        }
      ]
    },
    {
      "cell_type": "code",
      "metadata": {
        "id": "Dukkq9zj9Fn2",
        "colab": {
          "base_uri": "https://localhost:8080/",
          "height": 195
        },
        "outputId": "f4f7cff4-b056-4f0d-ea16-861d0aa84916"
      },
      "source": [
        "import pandas as pd \n",
        "df = pd.read_csv(\"/content/drive/MyDrive/DataAnalysis/5. London Housing Data.csv\" )\n",
        "df.head(5)"
      ],
      "execution_count": 41,
      "outputs": [
        {
          "output_type": "execute_result",
          "data": {
            "text/html": [
              "<div>\n",
              "<style scoped>\n",
              "    .dataframe tbody tr th:only-of-type {\n",
              "        vertical-align: middle;\n",
              "    }\n",
              "\n",
              "    .dataframe tbody tr th {\n",
              "        vertical-align: top;\n",
              "    }\n",
              "\n",
              "    .dataframe thead th {\n",
              "        text-align: right;\n",
              "    }\n",
              "</style>\n",
              "<table border=\"1\" class=\"dataframe\">\n",
              "  <thead>\n",
              "    <tr style=\"text-align: right;\">\n",
              "      <th></th>\n",
              "      <th>date</th>\n",
              "      <th>area</th>\n",
              "      <th>average_price</th>\n",
              "      <th>code</th>\n",
              "      <th>houses_sold</th>\n",
              "      <th>no_of_crimes</th>\n",
              "    </tr>\n",
              "  </thead>\n",
              "  <tbody>\n",
              "    <tr>\n",
              "      <th>0</th>\n",
              "      <td>1/1/1995</td>\n",
              "      <td>city of london</td>\n",
              "      <td>91449</td>\n",
              "      <td>E09000001</td>\n",
              "      <td>17.0</td>\n",
              "      <td>NaN</td>\n",
              "    </tr>\n",
              "    <tr>\n",
              "      <th>1</th>\n",
              "      <td>2/1/1995</td>\n",
              "      <td>city of london</td>\n",
              "      <td>82203</td>\n",
              "      <td>E09000001</td>\n",
              "      <td>7.0</td>\n",
              "      <td>NaN</td>\n",
              "    </tr>\n",
              "    <tr>\n",
              "      <th>2</th>\n",
              "      <td>3/1/1995</td>\n",
              "      <td>city of london</td>\n",
              "      <td>79121</td>\n",
              "      <td>E09000001</td>\n",
              "      <td>14.0</td>\n",
              "      <td>NaN</td>\n",
              "    </tr>\n",
              "    <tr>\n",
              "      <th>3</th>\n",
              "      <td>4/1/1995</td>\n",
              "      <td>city of london</td>\n",
              "      <td>77101</td>\n",
              "      <td>E09000001</td>\n",
              "      <td>7.0</td>\n",
              "      <td>NaN</td>\n",
              "    </tr>\n",
              "    <tr>\n",
              "      <th>4</th>\n",
              "      <td>5/1/1995</td>\n",
              "      <td>city of london</td>\n",
              "      <td>84409</td>\n",
              "      <td>E09000001</td>\n",
              "      <td>10.0</td>\n",
              "      <td>NaN</td>\n",
              "    </tr>\n",
              "  </tbody>\n",
              "</table>\n",
              "</div>"
            ],
            "text/plain": [
              "       date            area  ...  houses_sold no_of_crimes\n",
              "0  1/1/1995  city of london  ...         17.0          NaN\n",
              "1  2/1/1995  city of london  ...          7.0          NaN\n",
              "2  3/1/1995  city of london  ...         14.0          NaN\n",
              "3  4/1/1995  city of london  ...          7.0          NaN\n",
              "4  5/1/1995  city of london  ...         10.0          NaN\n",
              "\n",
              "[5 rows x 6 columns]"
            ]
          },
          "metadata": {
            "tags": []
          },
          "execution_count": 41
        }
      ]
    },
    {
      "cell_type": "code",
      "metadata": {
        "scrolled": true,
        "id": "LIuyFOkB9Fn3",
        "colab": {
          "base_uri": "https://localhost:8080/"
        },
        "outputId": "44d1abb0-40cc-4215-b321-7cf55b20854f"
      },
      "source": [
        "df.shape"
      ],
      "execution_count": 42,
      "outputs": [
        {
          "output_type": "execute_result",
          "data": {
            "text/plain": [
              "(13549, 6)"
            ]
          },
          "metadata": {
            "tags": []
          },
          "execution_count": 42
        }
      ]
    },
    {
      "cell_type": "code",
      "metadata": {
        "colab": {
          "base_uri": "https://localhost:8080/"
        },
        "id": "pY1h3J2Wz1oH",
        "outputId": "df97e8b4-3bab-4ef0-ae03-6055f88af306"
      },
      "source": [
        "df.index"
      ],
      "execution_count": 43,
      "outputs": [
        {
          "output_type": "execute_result",
          "data": {
            "text/plain": [
              "RangeIndex(start=0, stop=13549, step=1)"
            ]
          },
          "metadata": {
            "tags": []
          },
          "execution_count": 43
        }
      ]
    },
    {
      "cell_type": "code",
      "metadata": {
        "colab": {
          "base_uri": "https://localhost:8080/"
        },
        "id": "z3LeEuQUz1qp",
        "outputId": "f3e047a1-8dbf-422d-b15e-993511eee3f0"
      },
      "source": [
        "df.columns"
      ],
      "execution_count": 44,
      "outputs": [
        {
          "output_type": "execute_result",
          "data": {
            "text/plain": [
              "Index(['date', 'area', 'average_price', 'code', 'houses_sold', 'no_of_crimes'], dtype='object')"
            ]
          },
          "metadata": {
            "tags": []
          },
          "execution_count": 44
        }
      ]
    },
    {
      "cell_type": "code",
      "metadata": {
        "colab": {
          "base_uri": "https://localhost:8080/"
        },
        "id": "9CTW4Aumz1tB",
        "outputId": "e91fde87-02b3-4ccb-f18d-75f6105c6d67"
      },
      "source": [
        "df.dtypes"
      ],
      "execution_count": 45,
      "outputs": [
        {
          "output_type": "execute_result",
          "data": {
            "text/plain": [
              "date              object\n",
              "area              object\n",
              "average_price      int64\n",
              "code              object\n",
              "houses_sold      float64\n",
              "no_of_crimes     float64\n",
              "dtype: object"
            ]
          },
          "metadata": {
            "tags": []
          },
          "execution_count": 45
        }
      ]
    },
    {
      "cell_type": "code",
      "metadata": {
        "colab": {
          "base_uri": "https://localhost:8080/"
        },
        "id": "LaZntn-Kz1vX",
        "outputId": "5da08ae9-9fec-4e9e-9cc7-3fa5e0adb386"
      },
      "source": [
        "df.nunique()"
      ],
      "execution_count": 46,
      "outputs": [
        {
          "output_type": "execute_result",
          "data": {
            "text/plain": [
              "date               301\n",
              "area                45\n",
              "average_price    13343\n",
              "code                45\n",
              "houses_sold       3946\n",
              "no_of_crimes      2669\n",
              "dtype: int64"
            ]
          },
          "metadata": {
            "tags": []
          },
          "execution_count": 46
        }
      ]
    },
    {
      "cell_type": "code",
      "metadata": {
        "colab": {
          "base_uri": "https://localhost:8080/"
        },
        "id": "2Z6s50NDz1xv",
        "outputId": "eb110523-9122-406f-a0d3-959a8709a28d"
      },
      "source": [
        "df.count()"
      ],
      "execution_count": 47,
      "outputs": [
        {
          "output_type": "execute_result",
          "data": {
            "text/plain": [
              "date             13549\n",
              "area             13549\n",
              "average_price    13549\n",
              "code             13549\n",
              "houses_sold      13455\n",
              "no_of_crimes      7439\n",
              "dtype: int64"
            ]
          },
          "metadata": {
            "tags": []
          },
          "execution_count": 47
        }
      ]
    },
    {
      "cell_type": "code",
      "metadata": {
        "colab": {
          "base_uri": "https://localhost:8080/"
        },
        "id": "EjfcMz8Sz10V",
        "outputId": "104205e2-ad54-48a8-9605-a6fc235ad738"
      },
      "source": [
        "df.info()"
      ],
      "execution_count": 48,
      "outputs": [
        {
          "output_type": "stream",
          "text": [
            "<class 'pandas.core.frame.DataFrame'>\n",
            "RangeIndex: 13549 entries, 0 to 13548\n",
            "Data columns (total 6 columns):\n",
            " #   Column         Non-Null Count  Dtype  \n",
            "---  ------         --------------  -----  \n",
            " 0   date           13549 non-null  object \n",
            " 1   area           13549 non-null  object \n",
            " 2   average_price  13549 non-null  int64  \n",
            " 3   code           13549 non-null  object \n",
            " 4   houses_sold    13455 non-null  float64\n",
            " 5   no_of_crimes   7439 non-null   float64\n",
            "dtypes: float64(2), int64(1), object(3)\n",
            "memory usage: 635.2+ KB\n"
          ],
          "name": "stdout"
        }
      ]
    },
    {
      "cell_type": "code",
      "metadata": {
        "colab": {
          "base_uri": "https://localhost:8080/"
        },
        "id": "jL8Szmjq0OMn",
        "outputId": "e05f0b1f-d4ce-46f4-fd8f-32a186ca9f8e"
      },
      "source": [
        "df.isnull().sum()"
      ],
      "execution_count": 49,
      "outputs": [
        {
          "output_type": "execute_result",
          "data": {
            "text/plain": [
              "date                0\n",
              "area                0\n",
              "average_price       0\n",
              "code                0\n",
              "houses_sold        94\n",
              "no_of_crimes     6110\n",
              "dtype: int64"
            ]
          },
          "metadata": {
            "tags": []
          },
          "execution_count": 49
        }
      ]
    },
    {
      "cell_type": "markdown",
      "metadata": {
        "id": "wJY9-vJ99Fn4"
      },
      "source": [
        "# Q1. Convert the data type of \"Data\" column to date-time format\n"
      ]
    },
    {
      "cell_type": "code",
      "metadata": {
        "scrolled": true,
        "id": "_RMtmk0y9Fn5",
        "colab": {
          "base_uri": "https://localhost:8080/"
        },
        "outputId": "544d61e1-6e9e-4ad0-dba7-2cfc39e3ac21"
      },
      "source": [
        "df.dtypes"
      ],
      "execution_count": 50,
      "outputs": [
        {
          "output_type": "execute_result",
          "data": {
            "text/plain": [
              "date              object\n",
              "area              object\n",
              "average_price      int64\n",
              "code              object\n",
              "houses_sold      float64\n",
              "no_of_crimes     float64\n",
              "dtype: object"
            ]
          },
          "metadata": {
            "tags": []
          },
          "execution_count": 50
        }
      ]
    },
    {
      "cell_type": "code",
      "metadata": {
        "scrolled": true,
        "id": "JLcRrgyA9Fn5"
      },
      "source": [
        "df.date = pd.to_datetime(df.date)"
      ],
      "execution_count": 51,
      "outputs": []
    },
    {
      "cell_type": "code",
      "metadata": {
        "colab": {
          "base_uri": "https://localhost:8080/"
        },
        "id": "BB_LPDuaj3sf",
        "outputId": "3ca20e01-17b2-4a36-92ca-0ca4b7a5619b"
      },
      "source": [
        "df.dtypes"
      ],
      "execution_count": 52,
      "outputs": [
        {
          "output_type": "execute_result",
          "data": {
            "text/plain": [
              "date             datetime64[ns]\n",
              "area                     object\n",
              "average_price             int64\n",
              "code                     object\n",
              "houses_sold             float64\n",
              "no_of_crimes            float64\n",
              "dtype: object"
            ]
          },
          "metadata": {
            "tags": []
          },
          "execution_count": 52
        }
      ]
    },
    {
      "cell_type": "markdown",
      "metadata": {
        "id": "NpOPMLHL9Fn6"
      },
      "source": [
        "# Q2. Add a new column \"Year\" in the dataframe which contain only year.\n"
      ]
    },
    {
      "cell_type": "code",
      "metadata": {
        "id": "aDrMbErK9Fn6"
      },
      "source": [
        "df['Year'] =df.date.dt.year\n",
        "#df['Month'] =df.date.dt.month\n",
        "#df['Month_Name'] =df.date.dt.month_name\n",
        "#df['Day'] =df.date.dt.day"
      ],
      "execution_count": 53,
      "outputs": []
    },
    {
      "cell_type": "code",
      "metadata": {
        "scrolled": true,
        "id": "VxQhPIpM9Fn7",
        "colab": {
          "base_uri": "https://localhost:8080/",
          "height": 195
        },
        "outputId": "c744db21-cda9-463c-c5ce-8d3548efb49f"
      },
      "source": [
        "df.head()"
      ],
      "execution_count": 54,
      "outputs": [
        {
          "output_type": "execute_result",
          "data": {
            "text/html": [
              "<div>\n",
              "<style scoped>\n",
              "    .dataframe tbody tr th:only-of-type {\n",
              "        vertical-align: middle;\n",
              "    }\n",
              "\n",
              "    .dataframe tbody tr th {\n",
              "        vertical-align: top;\n",
              "    }\n",
              "\n",
              "    .dataframe thead th {\n",
              "        text-align: right;\n",
              "    }\n",
              "</style>\n",
              "<table border=\"1\" class=\"dataframe\">\n",
              "  <thead>\n",
              "    <tr style=\"text-align: right;\">\n",
              "      <th></th>\n",
              "      <th>date</th>\n",
              "      <th>area</th>\n",
              "      <th>average_price</th>\n",
              "      <th>code</th>\n",
              "      <th>houses_sold</th>\n",
              "      <th>no_of_crimes</th>\n",
              "      <th>Year</th>\n",
              "    </tr>\n",
              "  </thead>\n",
              "  <tbody>\n",
              "    <tr>\n",
              "      <th>0</th>\n",
              "      <td>1995-01-01</td>\n",
              "      <td>city of london</td>\n",
              "      <td>91449</td>\n",
              "      <td>E09000001</td>\n",
              "      <td>17.0</td>\n",
              "      <td>NaN</td>\n",
              "      <td>1995</td>\n",
              "    </tr>\n",
              "    <tr>\n",
              "      <th>1</th>\n",
              "      <td>1995-02-01</td>\n",
              "      <td>city of london</td>\n",
              "      <td>82203</td>\n",
              "      <td>E09000001</td>\n",
              "      <td>7.0</td>\n",
              "      <td>NaN</td>\n",
              "      <td>1995</td>\n",
              "    </tr>\n",
              "    <tr>\n",
              "      <th>2</th>\n",
              "      <td>1995-03-01</td>\n",
              "      <td>city of london</td>\n",
              "      <td>79121</td>\n",
              "      <td>E09000001</td>\n",
              "      <td>14.0</td>\n",
              "      <td>NaN</td>\n",
              "      <td>1995</td>\n",
              "    </tr>\n",
              "    <tr>\n",
              "      <th>3</th>\n",
              "      <td>1995-04-01</td>\n",
              "      <td>city of london</td>\n",
              "      <td>77101</td>\n",
              "      <td>E09000001</td>\n",
              "      <td>7.0</td>\n",
              "      <td>NaN</td>\n",
              "      <td>1995</td>\n",
              "    </tr>\n",
              "    <tr>\n",
              "      <th>4</th>\n",
              "      <td>1995-05-01</td>\n",
              "      <td>city of london</td>\n",
              "      <td>84409</td>\n",
              "      <td>E09000001</td>\n",
              "      <td>10.0</td>\n",
              "      <td>NaN</td>\n",
              "      <td>1995</td>\n",
              "    </tr>\n",
              "  </tbody>\n",
              "</table>\n",
              "</div>"
            ],
            "text/plain": [
              "        date            area  average_price  ... houses_sold  no_of_crimes  Year\n",
              "0 1995-01-01  city of london          91449  ...        17.0           NaN  1995\n",
              "1 1995-02-01  city of london          82203  ...         7.0           NaN  1995\n",
              "2 1995-03-01  city of london          79121  ...        14.0           NaN  1995\n",
              "3 1995-04-01  city of london          77101  ...         7.0           NaN  1995\n",
              "4 1995-05-01  city of london          84409  ...        10.0           NaN  1995\n",
              "\n",
              "[5 rows x 7 columns]"
            ]
          },
          "metadata": {
            "tags": []
          },
          "execution_count": 54
        }
      ]
    },
    {
      "cell_type": "code",
      "metadata": {
        "scrolled": true,
        "id": "TB0yqL4W9Fn7"
      },
      "source": [
        ""
      ],
      "execution_count": 54,
      "outputs": []
    },
    {
      "cell_type": "markdown",
      "metadata": {
        "id": "CLSkuS2y9Fn8"
      },
      "source": [
        "# Q3. Add a new column \"Month\" as 2nd column in the dataframe which contain month only.\n"
      ]
    },
    {
      "cell_type": "code",
      "metadata": {
        "scrolled": false,
        "id": "Z8NaJU5F9Fn8"
      },
      "source": [
        "df.insert(1,'Month', df.date.dt.month)"
      ],
      "execution_count": 55,
      "outputs": []
    },
    {
      "cell_type": "code",
      "metadata": {
        "colab": {
          "base_uri": "https://localhost:8080/",
          "height": 195
        },
        "id": "cXuLsR-mqNk1",
        "outputId": "2fa40dba-ec54-476c-a285-326df97205b6"
      },
      "source": [
        "df.head()"
      ],
      "execution_count": 56,
      "outputs": [
        {
          "output_type": "execute_result",
          "data": {
            "text/html": [
              "<div>\n",
              "<style scoped>\n",
              "    .dataframe tbody tr th:only-of-type {\n",
              "        vertical-align: middle;\n",
              "    }\n",
              "\n",
              "    .dataframe tbody tr th {\n",
              "        vertical-align: top;\n",
              "    }\n",
              "\n",
              "    .dataframe thead th {\n",
              "        text-align: right;\n",
              "    }\n",
              "</style>\n",
              "<table border=\"1\" class=\"dataframe\">\n",
              "  <thead>\n",
              "    <tr style=\"text-align: right;\">\n",
              "      <th></th>\n",
              "      <th>date</th>\n",
              "      <th>Month</th>\n",
              "      <th>area</th>\n",
              "      <th>average_price</th>\n",
              "      <th>code</th>\n",
              "      <th>houses_sold</th>\n",
              "      <th>no_of_crimes</th>\n",
              "      <th>Year</th>\n",
              "    </tr>\n",
              "  </thead>\n",
              "  <tbody>\n",
              "    <tr>\n",
              "      <th>0</th>\n",
              "      <td>1995-01-01</td>\n",
              "      <td>1</td>\n",
              "      <td>city of london</td>\n",
              "      <td>91449</td>\n",
              "      <td>E09000001</td>\n",
              "      <td>17.0</td>\n",
              "      <td>NaN</td>\n",
              "      <td>1995</td>\n",
              "    </tr>\n",
              "    <tr>\n",
              "      <th>1</th>\n",
              "      <td>1995-02-01</td>\n",
              "      <td>2</td>\n",
              "      <td>city of london</td>\n",
              "      <td>82203</td>\n",
              "      <td>E09000001</td>\n",
              "      <td>7.0</td>\n",
              "      <td>NaN</td>\n",
              "      <td>1995</td>\n",
              "    </tr>\n",
              "    <tr>\n",
              "      <th>2</th>\n",
              "      <td>1995-03-01</td>\n",
              "      <td>3</td>\n",
              "      <td>city of london</td>\n",
              "      <td>79121</td>\n",
              "      <td>E09000001</td>\n",
              "      <td>14.0</td>\n",
              "      <td>NaN</td>\n",
              "      <td>1995</td>\n",
              "    </tr>\n",
              "    <tr>\n",
              "      <th>3</th>\n",
              "      <td>1995-04-01</td>\n",
              "      <td>4</td>\n",
              "      <td>city of london</td>\n",
              "      <td>77101</td>\n",
              "      <td>E09000001</td>\n",
              "      <td>7.0</td>\n",
              "      <td>NaN</td>\n",
              "      <td>1995</td>\n",
              "    </tr>\n",
              "    <tr>\n",
              "      <th>4</th>\n",
              "      <td>1995-05-01</td>\n",
              "      <td>5</td>\n",
              "      <td>city of london</td>\n",
              "      <td>84409</td>\n",
              "      <td>E09000001</td>\n",
              "      <td>10.0</td>\n",
              "      <td>NaN</td>\n",
              "      <td>1995</td>\n",
              "    </tr>\n",
              "  </tbody>\n",
              "</table>\n",
              "</div>"
            ],
            "text/plain": [
              "        date  Month            area  ...  houses_sold no_of_crimes  Year\n",
              "0 1995-01-01      1  city of london  ...         17.0          NaN  1995\n",
              "1 1995-02-01      2  city of london  ...          7.0          NaN  1995\n",
              "2 1995-03-01      3  city of london  ...         14.0          NaN  1995\n",
              "3 1995-04-01      4  city of london  ...          7.0          NaN  1995\n",
              "4 1995-05-01      5  city of london  ...         10.0          NaN  1995\n",
              "\n",
              "[5 rows x 8 columns]"
            ]
          },
          "metadata": {
            "tags": []
          },
          "execution_count": 56
        }
      ]
    },
    {
      "cell_type": "markdown",
      "metadata": {
        "id": "hWFDx46i9Fn9"
      },
      "source": [
        "# Q4. Remove column Month and year from the dataframe.\n"
      ]
    },
    {
      "cell_type": "code",
      "metadata": {
        "colab": {
          "base_uri": "https://localhost:8080/",
          "height": 402
        },
        "id": "NmJ-03lXwa-S",
        "outputId": "627e0b6f-b85f-4730-9fbd-ae2bb67f70cd"
      },
      "source": [
        "df.drop(['Month','Year'], axis=1)"
      ],
      "execution_count": 57,
      "outputs": [
        {
          "output_type": "execute_result",
          "data": {
            "text/html": [
              "<div>\n",
              "<style scoped>\n",
              "    .dataframe tbody tr th:only-of-type {\n",
              "        vertical-align: middle;\n",
              "    }\n",
              "\n",
              "    .dataframe tbody tr th {\n",
              "        vertical-align: top;\n",
              "    }\n",
              "\n",
              "    .dataframe thead th {\n",
              "        text-align: right;\n",
              "    }\n",
              "</style>\n",
              "<table border=\"1\" class=\"dataframe\">\n",
              "  <thead>\n",
              "    <tr style=\"text-align: right;\">\n",
              "      <th></th>\n",
              "      <th>date</th>\n",
              "      <th>area</th>\n",
              "      <th>average_price</th>\n",
              "      <th>code</th>\n",
              "      <th>houses_sold</th>\n",
              "      <th>no_of_crimes</th>\n",
              "    </tr>\n",
              "  </thead>\n",
              "  <tbody>\n",
              "    <tr>\n",
              "      <th>0</th>\n",
              "      <td>1995-01-01</td>\n",
              "      <td>city of london</td>\n",
              "      <td>91449</td>\n",
              "      <td>E09000001</td>\n",
              "      <td>17.0</td>\n",
              "      <td>NaN</td>\n",
              "    </tr>\n",
              "    <tr>\n",
              "      <th>1</th>\n",
              "      <td>1995-02-01</td>\n",
              "      <td>city of london</td>\n",
              "      <td>82203</td>\n",
              "      <td>E09000001</td>\n",
              "      <td>7.0</td>\n",
              "      <td>NaN</td>\n",
              "    </tr>\n",
              "    <tr>\n",
              "      <th>2</th>\n",
              "      <td>1995-03-01</td>\n",
              "      <td>city of london</td>\n",
              "      <td>79121</td>\n",
              "      <td>E09000001</td>\n",
              "      <td>14.0</td>\n",
              "      <td>NaN</td>\n",
              "    </tr>\n",
              "    <tr>\n",
              "      <th>3</th>\n",
              "      <td>1995-04-01</td>\n",
              "      <td>city of london</td>\n",
              "      <td>77101</td>\n",
              "      <td>E09000001</td>\n",
              "      <td>7.0</td>\n",
              "      <td>NaN</td>\n",
              "    </tr>\n",
              "    <tr>\n",
              "      <th>4</th>\n",
              "      <td>1995-05-01</td>\n",
              "      <td>city of london</td>\n",
              "      <td>84409</td>\n",
              "      <td>E09000001</td>\n",
              "      <td>10.0</td>\n",
              "      <td>NaN</td>\n",
              "    </tr>\n",
              "    <tr>\n",
              "      <th>...</th>\n",
              "      <td>...</td>\n",
              "      <td>...</td>\n",
              "      <td>...</td>\n",
              "      <td>...</td>\n",
              "      <td>...</td>\n",
              "      <td>...</td>\n",
              "    </tr>\n",
              "    <tr>\n",
              "      <th>13544</th>\n",
              "      <td>2019-09-01</td>\n",
              "      <td>england</td>\n",
              "      <td>249942</td>\n",
              "      <td>E92000001</td>\n",
              "      <td>64605.0</td>\n",
              "      <td>NaN</td>\n",
              "    </tr>\n",
              "    <tr>\n",
              "      <th>13545</th>\n",
              "      <td>2019-10-01</td>\n",
              "      <td>england</td>\n",
              "      <td>249376</td>\n",
              "      <td>E92000001</td>\n",
              "      <td>68677.0</td>\n",
              "      <td>NaN</td>\n",
              "    </tr>\n",
              "    <tr>\n",
              "      <th>13546</th>\n",
              "      <td>2019-11-01</td>\n",
              "      <td>england</td>\n",
              "      <td>248515</td>\n",
              "      <td>E92000001</td>\n",
              "      <td>67814.0</td>\n",
              "      <td>NaN</td>\n",
              "    </tr>\n",
              "    <tr>\n",
              "      <th>13547</th>\n",
              "      <td>2019-12-01</td>\n",
              "      <td>england</td>\n",
              "      <td>250410</td>\n",
              "      <td>E92000001</td>\n",
              "      <td>NaN</td>\n",
              "      <td>NaN</td>\n",
              "    </tr>\n",
              "    <tr>\n",
              "      <th>13548</th>\n",
              "      <td>2020-01-01</td>\n",
              "      <td>england</td>\n",
              "      <td>247355</td>\n",
              "      <td>E92000001</td>\n",
              "      <td>NaN</td>\n",
              "      <td>NaN</td>\n",
              "    </tr>\n",
              "  </tbody>\n",
              "</table>\n",
              "<p>13549 rows × 6 columns</p>\n",
              "</div>"
            ],
            "text/plain": [
              "            date            area  ...  houses_sold no_of_crimes\n",
              "0     1995-01-01  city of london  ...         17.0          NaN\n",
              "1     1995-02-01  city of london  ...          7.0          NaN\n",
              "2     1995-03-01  city of london  ...         14.0          NaN\n",
              "3     1995-04-01  city of london  ...          7.0          NaN\n",
              "4     1995-05-01  city of london  ...         10.0          NaN\n",
              "...          ...             ...  ...          ...          ...\n",
              "13544 2019-09-01         england  ...      64605.0          NaN\n",
              "13545 2019-10-01         england  ...      68677.0          NaN\n",
              "13546 2019-11-01         england  ...      67814.0          NaN\n",
              "13547 2019-12-01         england  ...          NaN          NaN\n",
              "13548 2020-01-01         england  ...          NaN          NaN\n",
              "\n",
              "[13549 rows x 6 columns]"
            ]
          },
          "metadata": {
            "tags": []
          },
          "execution_count": 57
        }
      ]
    },
    {
      "cell_type": "code",
      "metadata": {
        "id": "uKf0CP36wbTk"
      },
      "source": [
        ""
      ],
      "execution_count": 57,
      "outputs": []
    },
    {
      "cell_type": "markdown",
      "metadata": {
        "id": "r-2eV0qj9Fn9"
      },
      "source": [
        "# Q5. Show all the records where \"No. of records is 0\" and how many such records are there.\n"
      ]
    },
    {
      "cell_type": "code",
      "metadata": {
        "id": "a3g310cA9Fn9",
        "colab": {
          "base_uri": "https://localhost:8080/",
          "height": 402
        },
        "outputId": "f5fe92dd-fa2d-4a5e-cc4f-1ceb6711d055"
      },
      "source": [
        "df[df['no_of_crimes']==0]"
      ],
      "execution_count": 58,
      "outputs": [
        {
          "output_type": "execute_result",
          "data": {
            "text/html": [
              "<div>\n",
              "<style scoped>\n",
              "    .dataframe tbody tr th:only-of-type {\n",
              "        vertical-align: middle;\n",
              "    }\n",
              "\n",
              "    .dataframe tbody tr th {\n",
              "        vertical-align: top;\n",
              "    }\n",
              "\n",
              "    .dataframe thead th {\n",
              "        text-align: right;\n",
              "    }\n",
              "</style>\n",
              "<table border=\"1\" class=\"dataframe\">\n",
              "  <thead>\n",
              "    <tr style=\"text-align: right;\">\n",
              "      <th></th>\n",
              "      <th>date</th>\n",
              "      <th>Month</th>\n",
              "      <th>area</th>\n",
              "      <th>average_price</th>\n",
              "      <th>code</th>\n",
              "      <th>houses_sold</th>\n",
              "      <th>no_of_crimes</th>\n",
              "      <th>Year</th>\n",
              "    </tr>\n",
              "  </thead>\n",
              "  <tbody>\n",
              "    <tr>\n",
              "      <th>72</th>\n",
              "      <td>2001-01-01</td>\n",
              "      <td>1</td>\n",
              "      <td>city of london</td>\n",
              "      <td>284262</td>\n",
              "      <td>E09000001</td>\n",
              "      <td>24.0</td>\n",
              "      <td>0.0</td>\n",
              "      <td>2001</td>\n",
              "    </tr>\n",
              "    <tr>\n",
              "      <th>73</th>\n",
              "      <td>2001-02-01</td>\n",
              "      <td>2</td>\n",
              "      <td>city of london</td>\n",
              "      <td>198137</td>\n",
              "      <td>E09000001</td>\n",
              "      <td>37.0</td>\n",
              "      <td>0.0</td>\n",
              "      <td>2001</td>\n",
              "    </tr>\n",
              "    <tr>\n",
              "      <th>74</th>\n",
              "      <td>2001-03-01</td>\n",
              "      <td>3</td>\n",
              "      <td>city of london</td>\n",
              "      <td>189033</td>\n",
              "      <td>E09000001</td>\n",
              "      <td>44.0</td>\n",
              "      <td>0.0</td>\n",
              "      <td>2001</td>\n",
              "    </tr>\n",
              "    <tr>\n",
              "      <th>75</th>\n",
              "      <td>2001-04-01</td>\n",
              "      <td>4</td>\n",
              "      <td>city of london</td>\n",
              "      <td>205494</td>\n",
              "      <td>E09000001</td>\n",
              "      <td>38.0</td>\n",
              "      <td>0.0</td>\n",
              "      <td>2001</td>\n",
              "    </tr>\n",
              "    <tr>\n",
              "      <th>76</th>\n",
              "      <td>2001-05-01</td>\n",
              "      <td>5</td>\n",
              "      <td>city of london</td>\n",
              "      <td>223459</td>\n",
              "      <td>E09000001</td>\n",
              "      <td>30.0</td>\n",
              "      <td>0.0</td>\n",
              "      <td>2001</td>\n",
              "    </tr>\n",
              "    <tr>\n",
              "      <th>...</th>\n",
              "      <td>...</td>\n",
              "      <td>...</td>\n",
              "      <td>...</td>\n",
              "      <td>...</td>\n",
              "      <td>...</td>\n",
              "      <td>...</td>\n",
              "      <td>...</td>\n",
              "      <td>...</td>\n",
              "    </tr>\n",
              "    <tr>\n",
              "      <th>178</th>\n",
              "      <td>2009-11-01</td>\n",
              "      <td>11</td>\n",
              "      <td>city of london</td>\n",
              "      <td>397909</td>\n",
              "      <td>E09000001</td>\n",
              "      <td>11.0</td>\n",
              "      <td>0.0</td>\n",
              "      <td>2009</td>\n",
              "    </tr>\n",
              "    <tr>\n",
              "      <th>179</th>\n",
              "      <td>2009-12-01</td>\n",
              "      <td>12</td>\n",
              "      <td>city of london</td>\n",
              "      <td>411955</td>\n",
              "      <td>E09000001</td>\n",
              "      <td>16.0</td>\n",
              "      <td>0.0</td>\n",
              "      <td>2009</td>\n",
              "    </tr>\n",
              "    <tr>\n",
              "      <th>180</th>\n",
              "      <td>2010-01-01</td>\n",
              "      <td>1</td>\n",
              "      <td>city of london</td>\n",
              "      <td>464436</td>\n",
              "      <td>E09000001</td>\n",
              "      <td>20.0</td>\n",
              "      <td>0.0</td>\n",
              "      <td>2010</td>\n",
              "    </tr>\n",
              "    <tr>\n",
              "      <th>181</th>\n",
              "      <td>2010-02-01</td>\n",
              "      <td>2</td>\n",
              "      <td>city of london</td>\n",
              "      <td>490525</td>\n",
              "      <td>E09000001</td>\n",
              "      <td>9.0</td>\n",
              "      <td>0.0</td>\n",
              "      <td>2010</td>\n",
              "    </tr>\n",
              "    <tr>\n",
              "      <th>182</th>\n",
              "      <td>2010-03-01</td>\n",
              "      <td>3</td>\n",
              "      <td>city of london</td>\n",
              "      <td>498241</td>\n",
              "      <td>E09000001</td>\n",
              "      <td>15.0</td>\n",
              "      <td>0.0</td>\n",
              "      <td>2010</td>\n",
              "    </tr>\n",
              "  </tbody>\n",
              "</table>\n",
              "<p>104 rows × 8 columns</p>\n",
              "</div>"
            ],
            "text/plain": [
              "          date  Month            area  ...  houses_sold no_of_crimes  Year\n",
              "72  2001-01-01      1  city of london  ...         24.0          0.0  2001\n",
              "73  2001-02-01      2  city of london  ...         37.0          0.0  2001\n",
              "74  2001-03-01      3  city of london  ...         44.0          0.0  2001\n",
              "75  2001-04-01      4  city of london  ...         38.0          0.0  2001\n",
              "76  2001-05-01      5  city of london  ...         30.0          0.0  2001\n",
              "..         ...    ...             ...  ...          ...          ...   ...\n",
              "178 2009-11-01     11  city of london  ...         11.0          0.0  2009\n",
              "179 2009-12-01     12  city of london  ...         16.0          0.0  2009\n",
              "180 2010-01-01      1  city of london  ...         20.0          0.0  2010\n",
              "181 2010-02-01      2  city of london  ...          9.0          0.0  2010\n",
              "182 2010-03-01      3  city of london  ...         15.0          0.0  2010\n",
              "\n",
              "[104 rows x 8 columns]"
            ]
          },
          "metadata": {
            "tags": []
          },
          "execution_count": 58
        }
      ]
    },
    {
      "cell_type": "code",
      "metadata": {
        "colab": {
          "base_uri": "https://localhost:8080/"
        },
        "id": "pINjjxyGAuZ6",
        "outputId": "f897d014-5c38-4d9a-c0f8-feddc419ba61"
      },
      "source": [
        "len( df[df['no_of_crimes']==0] )"
      ],
      "execution_count": 59,
      "outputs": [
        {
          "output_type": "execute_result",
          "data": {
            "text/plain": [
              "104"
            ]
          },
          "metadata": {
            "tags": []
          },
          "execution_count": 59
        }
      ]
    },
    {
      "cell_type": "markdown",
      "metadata": {
        "id": "OiOaOxXS9Fn-"
      },
      "source": [
        "# Q6. What is the maximum & minimum number of \"avg price\" per year in England\n"
      ]
    },
    {
      "cell_type": "code",
      "metadata": {
        "id": "KPttwyKt9Fn-",
        "colab": {
          "base_uri": "https://localhost:8080/",
          "height": 402
        },
        "outputId": "bb5a31b7-8b03-4957-9761-94366db307f5"
      },
      "source": [
        "df1= df[df.area == 'england']\n",
        "df1"
      ],
      "execution_count": 60,
      "outputs": [
        {
          "output_type": "execute_result",
          "data": {
            "text/html": [
              "<div>\n",
              "<style scoped>\n",
              "    .dataframe tbody tr th:only-of-type {\n",
              "        vertical-align: middle;\n",
              "    }\n",
              "\n",
              "    .dataframe tbody tr th {\n",
              "        vertical-align: top;\n",
              "    }\n",
              "\n",
              "    .dataframe thead th {\n",
              "        text-align: right;\n",
              "    }\n",
              "</style>\n",
              "<table border=\"1\" class=\"dataframe\">\n",
              "  <thead>\n",
              "    <tr style=\"text-align: right;\">\n",
              "      <th></th>\n",
              "      <th>date</th>\n",
              "      <th>Month</th>\n",
              "      <th>area</th>\n",
              "      <th>average_price</th>\n",
              "      <th>code</th>\n",
              "      <th>houses_sold</th>\n",
              "      <th>no_of_crimes</th>\n",
              "      <th>Year</th>\n",
              "    </tr>\n",
              "  </thead>\n",
              "  <tbody>\n",
              "    <tr>\n",
              "      <th>13248</th>\n",
              "      <td>1995-01-01</td>\n",
              "      <td>1</td>\n",
              "      <td>england</td>\n",
              "      <td>53203</td>\n",
              "      <td>E92000001</td>\n",
              "      <td>47639.0</td>\n",
              "      <td>NaN</td>\n",
              "      <td>1995</td>\n",
              "    </tr>\n",
              "    <tr>\n",
              "      <th>13249</th>\n",
              "      <td>1995-02-01</td>\n",
              "      <td>2</td>\n",
              "      <td>england</td>\n",
              "      <td>53096</td>\n",
              "      <td>E92000001</td>\n",
              "      <td>47880.0</td>\n",
              "      <td>NaN</td>\n",
              "      <td>1995</td>\n",
              "    </tr>\n",
              "    <tr>\n",
              "      <th>13250</th>\n",
              "      <td>1995-03-01</td>\n",
              "      <td>3</td>\n",
              "      <td>england</td>\n",
              "      <td>53201</td>\n",
              "      <td>E92000001</td>\n",
              "      <td>67025.0</td>\n",
              "      <td>NaN</td>\n",
              "      <td>1995</td>\n",
              "    </tr>\n",
              "    <tr>\n",
              "      <th>13251</th>\n",
              "      <td>1995-04-01</td>\n",
              "      <td>4</td>\n",
              "      <td>england</td>\n",
              "      <td>53591</td>\n",
              "      <td>E92000001</td>\n",
              "      <td>56925.0</td>\n",
              "      <td>NaN</td>\n",
              "      <td>1995</td>\n",
              "    </tr>\n",
              "    <tr>\n",
              "      <th>13252</th>\n",
              "      <td>1995-05-01</td>\n",
              "      <td>5</td>\n",
              "      <td>england</td>\n",
              "      <td>53678</td>\n",
              "      <td>E92000001</td>\n",
              "      <td>64192.0</td>\n",
              "      <td>NaN</td>\n",
              "      <td>1995</td>\n",
              "    </tr>\n",
              "    <tr>\n",
              "      <th>...</th>\n",
              "      <td>...</td>\n",
              "      <td>...</td>\n",
              "      <td>...</td>\n",
              "      <td>...</td>\n",
              "      <td>...</td>\n",
              "      <td>...</td>\n",
              "      <td>...</td>\n",
              "      <td>...</td>\n",
              "    </tr>\n",
              "    <tr>\n",
              "      <th>13544</th>\n",
              "      <td>2019-09-01</td>\n",
              "      <td>9</td>\n",
              "      <td>england</td>\n",
              "      <td>249942</td>\n",
              "      <td>E92000001</td>\n",
              "      <td>64605.0</td>\n",
              "      <td>NaN</td>\n",
              "      <td>2019</td>\n",
              "    </tr>\n",
              "    <tr>\n",
              "      <th>13545</th>\n",
              "      <td>2019-10-01</td>\n",
              "      <td>10</td>\n",
              "      <td>england</td>\n",
              "      <td>249376</td>\n",
              "      <td>E92000001</td>\n",
              "      <td>68677.0</td>\n",
              "      <td>NaN</td>\n",
              "      <td>2019</td>\n",
              "    </tr>\n",
              "    <tr>\n",
              "      <th>13546</th>\n",
              "      <td>2019-11-01</td>\n",
              "      <td>11</td>\n",
              "      <td>england</td>\n",
              "      <td>248515</td>\n",
              "      <td>E92000001</td>\n",
              "      <td>67814.0</td>\n",
              "      <td>NaN</td>\n",
              "      <td>2019</td>\n",
              "    </tr>\n",
              "    <tr>\n",
              "      <th>13547</th>\n",
              "      <td>2019-12-01</td>\n",
              "      <td>12</td>\n",
              "      <td>england</td>\n",
              "      <td>250410</td>\n",
              "      <td>E92000001</td>\n",
              "      <td>NaN</td>\n",
              "      <td>NaN</td>\n",
              "      <td>2019</td>\n",
              "    </tr>\n",
              "    <tr>\n",
              "      <th>13548</th>\n",
              "      <td>2020-01-01</td>\n",
              "      <td>1</td>\n",
              "      <td>england</td>\n",
              "      <td>247355</td>\n",
              "      <td>E92000001</td>\n",
              "      <td>NaN</td>\n",
              "      <td>NaN</td>\n",
              "      <td>2020</td>\n",
              "    </tr>\n",
              "  </tbody>\n",
              "</table>\n",
              "<p>301 rows × 8 columns</p>\n",
              "</div>"
            ],
            "text/plain": [
              "            date  Month     area  ...  houses_sold no_of_crimes  Year\n",
              "13248 1995-01-01      1  england  ...      47639.0          NaN  1995\n",
              "13249 1995-02-01      2  england  ...      47880.0          NaN  1995\n",
              "13250 1995-03-01      3  england  ...      67025.0          NaN  1995\n",
              "13251 1995-04-01      4  england  ...      56925.0          NaN  1995\n",
              "13252 1995-05-01      5  england  ...      64192.0          NaN  1995\n",
              "...          ...    ...      ...  ...          ...          ...   ...\n",
              "13544 2019-09-01      9  england  ...      64605.0          NaN  2019\n",
              "13545 2019-10-01     10  england  ...      68677.0          NaN  2019\n",
              "13546 2019-11-01     11  england  ...      67814.0          NaN  2019\n",
              "13547 2019-12-01     12  england  ...          NaN          NaN  2019\n",
              "13548 2020-01-01      1  england  ...          NaN          NaN  2020\n",
              "\n",
              "[301 rows x 8 columns]"
            ]
          },
          "metadata": {
            "tags": []
          },
          "execution_count": 60
        }
      ]
    },
    {
      "cell_type": "code",
      "metadata": {
        "colab": {
          "base_uri": "https://localhost:8080/"
        },
        "id": "9_8rhvN-ZTmt",
        "outputId": "8d905a3d-ced2-4429-ec41-901f3b03888e"
      },
      "source": [
        "df1.groupby('Year').average_price.max"
      ],
      "execution_count": 61,
      "outputs": [
        {
          "output_type": "execute_result",
          "data": {
            "text/plain": [
              "<bound method GroupBy.max of <pandas.core.groupby.generic.SeriesGroupBy object at 0x7f1d061dc9d0>>"
            ]
          },
          "metadata": {
            "tags": []
          },
          "execution_count": 61
        }
      ]
    },
    {
      "cell_type": "code",
      "metadata": {
        "colab": {
          "base_uri": "https://localhost:8080/"
        },
        "id": "tfsP08UXadUJ",
        "outputId": "1aa64844-5590-4236-9b41-c3a52700bfe7"
      },
      "source": [
        "df1.groupby('Year').average_price.min()"
      ],
      "execution_count": 62,
      "outputs": [
        {
          "output_type": "execute_result",
          "data": {
            "text/plain": [
              "Year\n",
              "1995     52788\n",
              "1996     52333\n",
              "1997     55789\n",
              "1998     61659\n",
              "1999     65522\n",
              "2000     75219\n",
              "2001     84245\n",
              "2002     96215\n",
              "2003    121610\n",
              "2004    139719\n",
              "2005    158572\n",
              "2006    166544\n",
              "2007    181824\n",
              "2008    165795\n",
              "2009    159340\n",
              "2010    174458\n",
              "2011    173046\n",
              "2012    174161\n",
              "2013    176816\n",
              "2014    188265\n",
              "2015    202856\n",
              "2016    220361\n",
              "2017    231593\n",
              "2018    240428\n",
              "2019    243281\n",
              "2020    247355\n",
              "Name: average_price, dtype: int64"
            ]
          },
          "metadata": {
            "tags": []
          },
          "execution_count": 62
        }
      ]
    },
    {
      "cell_type": "markdown",
      "metadata": {
        "id": "6C-S6GV79Fn-"
      },
      "source": [
        "# Q7. What is the maximum & minimum number of \"Crime Reported\" as per area ?\n"
      ]
    },
    {
      "cell_type": "code",
      "metadata": {
        "id": "qVu1c4Rb9FoA",
        "colab": {
          "base_uri": "https://localhost:8080/"
        },
        "outputId": "0303730f-471f-42bd-958a-de2076964da2"
      },
      "source": [
        "df.groupby('area').no_of_crimes.min().sort_values(ascending=False)"
      ],
      "execution_count": 63,
      "outputs": [
        {
          "output_type": "execute_result",
          "data": {
            "text/plain": [
              "area\n",
              "westminster               3504.0\n",
              "lambeth                   2381.0\n",
              "southwark                 2267.0\n",
              "newham                    2130.0\n",
              "camden                    2079.0\n",
              "croydon                   2031.0\n",
              "islington                 1871.0\n",
              "ealing                    1871.0\n",
              "hackney                   1870.0\n",
              "brent                     1850.0\n",
              "barnet                    1703.0\n",
              "lewisham                  1675.0\n",
              "tower hamlets             1646.0\n",
              "enfield                   1635.0\n",
              "wandsworth                1582.0\n",
              "waltham forest            1575.0\n",
              "haringey                  1536.0\n",
              "hounslow                  1529.0\n",
              "greenwich                 1513.0\n",
              "redbridge                 1487.0\n",
              "hillingdon                1445.0\n",
              "bromley                   1441.0\n",
              "kensington and chelsea    1347.0\n",
              "hammersmith and fulham    1323.0\n",
              "barking and dagenham      1217.0\n",
              "havering                  1130.0\n",
              "harrow                     937.0\n",
              "bexley                     860.0\n",
              "merton                     819.0\n",
              "sutton                     787.0\n",
              "richmond upon thames       700.0\n",
              "kingston upon thames       692.0\n",
              "city of london               0.0\n",
              "east midlands                NaN\n",
              "east of england              NaN\n",
              "england                      NaN\n",
              "inner london                 NaN\n",
              "london                       NaN\n",
              "north east                   NaN\n",
              "north west                   NaN\n",
              "outer london                 NaN\n",
              "south east                   NaN\n",
              "south west                   NaN\n",
              "west midlands                NaN\n",
              "yorks and the humber         NaN\n",
              "Name: no_of_crimes, dtype: float64"
            ]
          },
          "metadata": {
            "tags": []
          },
          "execution_count": 63
        }
      ]
    },
    {
      "cell_type": "code",
      "metadata": {
        "colab": {
          "base_uri": "https://localhost:8080/"
        },
        "id": "s5P4Lw5Aa9ie",
        "outputId": "7a6adc15-0d57-4efd-d845-c947cce40e45"
      },
      "source": [
        "df.groupby('area').no_of_crimes.max().sort_values(ascending=False)"
      ],
      "execution_count": 64,
      "outputs": [
        {
          "output_type": "execute_result",
          "data": {
            "text/plain": [
              "area\n",
              "westminster               7461.0\n",
              "lambeth                   4701.0\n",
              "camden                    4558.0\n",
              "southwark                 3821.0\n",
              "newham                    3668.0\n",
              "hackney                   3466.0\n",
              "ealing                    3401.0\n",
              "islington                 3384.0\n",
              "tower hamlets             3316.0\n",
              "croydon                   3263.0\n",
              "haringey                  3199.0\n",
              "wandsworth                3051.0\n",
              "waltham forest            2941.0\n",
              "brent                     2937.0\n",
              "barnet                    2893.0\n",
              "greenwich                 2853.0\n",
              "hillingdon                2819.0\n",
              "hounslow                  2817.0\n",
              "lewisham                  2813.0\n",
              "enfield                   2798.0\n",
              "kensington and chelsea    2778.0\n",
              "hammersmith and fulham    2645.0\n",
              "bromley                   2637.0\n",
              "redbridge                 2560.0\n",
              "barking and dagenham      2049.0\n",
              "havering                  1956.0\n",
              "bexley                    1914.0\n",
              "harrow                    1763.0\n",
              "merton                    1623.0\n",
              "richmond upon thames      1551.0\n",
              "sutton                    1425.0\n",
              "kingston upon thames      1379.0\n",
              "city of london              10.0\n",
              "east midlands                NaN\n",
              "east of england              NaN\n",
              "england                      NaN\n",
              "inner london                 NaN\n",
              "london                       NaN\n",
              "north east                   NaN\n",
              "north west                   NaN\n",
              "outer london                 NaN\n",
              "south east                   NaN\n",
              "south west                   NaN\n",
              "west midlands                NaN\n",
              "yorks and the humber         NaN\n",
              "Name: no_of_crimes, dtype: float64"
            ]
          },
          "metadata": {
            "tags": []
          },
          "execution_count": 64
        }
      ]
    },
    {
      "cell_type": "markdown",
      "metadata": {
        "id": "jztWyRWF9FoA"
      },
      "source": [
        "# Q8. Show the total count of records of each area where avg price is less then 100000 ?\n",
        "\n"
      ]
    },
    {
      "cell_type": "code",
      "metadata": {
        "scrolled": true,
        "id": "w3eb4tr29FoB",
        "colab": {
          "base_uri": "https://localhost:8080/"
        },
        "outputId": "0a6d971f-4406-41da-9fae-425a8ae98c17"
      },
      "source": [
        "df[ df['average_price'] <100000] .area.value_counts() "
      ],
      "execution_count": 65,
      "outputs": [
        {
          "output_type": "execute_result",
          "data": {
            "text/plain": [
              "north east              112\n",
              "north west              111\n",
              "yorks and the humber    110\n",
              "east midlands            96\n",
              "west midlands            94\n",
              "england                  87\n",
              "barking and dagenham     85\n",
              "south west               78\n",
              "east of england          76\n",
              "newham                   72\n",
              "bexley                   64\n",
              "waltham forest           64\n",
              "lewisham                 62\n",
              "havering                 60\n",
              "south east               59\n",
              "greenwich                59\n",
              "croydon                  57\n",
              "sutton                   54\n",
              "enfield                  54\n",
              "hackney                  53\n",
              "redbridge                52\n",
              "southwark                48\n",
              "tower hamlets            47\n",
              "outer london             46\n",
              "hillingdon               44\n",
              "hounslow                 41\n",
              "lambeth                  41\n",
              "brent                    40\n",
              "london                   39\n",
              "merton                   35\n",
              "bromley                  33\n",
              "haringey                 33\n",
              "ealing                   31\n",
              "inner london             31\n",
              "kingston upon thames     30\n",
              "harrow                   30\n",
              "wandsworth               26\n",
              "barnet                   25\n",
              "islington                19\n",
              "city of london           11\n",
              "Name: area, dtype: int64"
            ]
          },
          "metadata": {
            "tags": []
          },
          "execution_count": 65
        }
      ]
    },
    {
      "cell_type": "code",
      "metadata": {
        "scrolled": true,
        "id": "6_rE-uUY9FoB"
      },
      "source": [
        ""
      ],
      "execution_count": null,
      "outputs": []
    },
    {
      "cell_type": "code",
      "metadata": {
        "scrolled": true,
        "id": "O8MVW3w99FoC"
      },
      "source": [
        ""
      ],
      "execution_count": null,
      "outputs": []
    },
    {
      "cell_type": "code",
      "metadata": {
        "scrolled": true,
        "id": "_z8wbNeM9FoC"
      },
      "source": [
        ""
      ],
      "execution_count": null,
      "outputs": []
    }
  ]
}