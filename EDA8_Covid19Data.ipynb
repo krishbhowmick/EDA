{
  "nbformat": 4,
  "nbformat_minor": 0,
  "metadata": {
    "anaconda-cloud": {},
    "kernelspec": {
      "display_name": "Python 3",
      "language": "python",
      "name": "python3"
    },
    "language_info": {
      "codemirror_mode": {
        "name": "ipython",
        "version": 3
      },
      "file_extension": ".py",
      "mimetype": "text/x-python",
      "name": "python",
      "nbconvert_exporter": "python",
      "pygments_lexer": "ipython3",
      "version": "3.6.1"
    },
    "colab": {
      "name": "EDA8_Covid19Data",
      "provenance": [],
      "include_colab_link": true
    }
  },
  "cells": [
    {
      "cell_type": "markdown",
      "metadata": {
        "id": "view-in-github",
        "colab_type": "text"
      },
      "source": [
        "<a href=\"https://colab.research.google.com/github/krishbhowmick/EDA/blob/main/EDA8_Covid19Data.ipynb\" target=\"_parent\"><img src=\"https://colab.research.google.com/assets/colab-badge.svg\" alt=\"Open In Colab\"/></a>"
      ]
    },
    {
      "cell_type": "markdown",
      "metadata": {
        "id": "F871-y0E7pRg"
      },
      "source": [
        "## **What are the Python queries that you will use to get the below data points?**\n",
        "\n",
        "Q1. Show the nummber of confirmed, death, recovered case in each region.\n",
        "\n",
        "Q2. Remove all the records where where confirmed cases is less then 10.\n",
        "\n",
        "Q3. In which region maximum number of confirmed cases recorded ?\n",
        "\n",
        "Q4. In which region maximum number of death cases recorded ?\n",
        "\n",
        "Q5. How many confirmed, death, recovered cases come from india till 24th April 2020.\n",
        "\n",
        "Q6. Sort the entire data wrt no. of confirmed cases in ascending order.\n",
        "\n",
        "Q7. Sort the entire data wrt no. of confirmed cases in ascending order.\n"
      ]
    },
    {
      "cell_type": "code",
      "metadata": {
        "id": "srkiAXuRELwL",
        "colab": {
          "base_uri": "https://localhost:8080/"
        },
        "outputId": "b1f7b625-3009-4f17-818b-97699d05f2e8"
      },
      "source": [
        "# Connect the google drive with google Colab\n",
        "\n",
        "from google.colab import drive\n",
        "drive.mount('/content/drive/')"
      ],
      "execution_count": null,
      "outputs": [
        {
          "output_type": "stream",
          "text": [
            "Mounted at /content/drive/\n"
          ],
          "name": "stdout"
        }
      ]
    },
    {
      "cell_type": "code",
      "metadata": {
        "id": "D907wiBA7pRZ",
        "colab": {
          "base_uri": "https://localhost:8080/",
          "height": 195
        },
        "outputId": "9b041a0e-42df-4e2a-d5d5-692b32d944f2"
      },
      "source": [
        "import pandas as pd \n",
        "import seaborn as sb\n",
        "import matplotlib.pyplot as plt\n",
        "\n",
        "df = pd.read_csv(\"/content/drive/MyDrive/DataAnalysis/4. covid_19_data.csv\" )\n",
        "df.head(5)"
      ],
      "execution_count": null,
      "outputs": [
        {
          "output_type": "execute_result",
          "data": {
            "text/html": [
              "<div>\n",
              "<style scoped>\n",
              "    .dataframe tbody tr th:only-of-type {\n",
              "        vertical-align: middle;\n",
              "    }\n",
              "\n",
              "    .dataframe tbody tr th {\n",
              "        vertical-align: top;\n",
              "    }\n",
              "\n",
              "    .dataframe thead th {\n",
              "        text-align: right;\n",
              "    }\n",
              "</style>\n",
              "<table border=\"1\" class=\"dataframe\">\n",
              "  <thead>\n",
              "    <tr style=\"text-align: right;\">\n",
              "      <th></th>\n",
              "      <th>Date</th>\n",
              "      <th>State</th>\n",
              "      <th>Region</th>\n",
              "      <th>Confirmed</th>\n",
              "      <th>Deaths</th>\n",
              "      <th>Recovered</th>\n",
              "    </tr>\n",
              "  </thead>\n",
              "  <tbody>\n",
              "    <tr>\n",
              "      <th>0</th>\n",
              "      <td>4/29/2020</td>\n",
              "      <td>NaN</td>\n",
              "      <td>Afghanistan</td>\n",
              "      <td>1939</td>\n",
              "      <td>60</td>\n",
              "      <td>252</td>\n",
              "    </tr>\n",
              "    <tr>\n",
              "      <th>1</th>\n",
              "      <td>4/29/2020</td>\n",
              "      <td>NaN</td>\n",
              "      <td>Albania</td>\n",
              "      <td>766</td>\n",
              "      <td>30</td>\n",
              "      <td>455</td>\n",
              "    </tr>\n",
              "    <tr>\n",
              "      <th>2</th>\n",
              "      <td>4/29/2020</td>\n",
              "      <td>NaN</td>\n",
              "      <td>Algeria</td>\n",
              "      <td>3848</td>\n",
              "      <td>444</td>\n",
              "      <td>1702</td>\n",
              "    </tr>\n",
              "    <tr>\n",
              "      <th>3</th>\n",
              "      <td>4/29/2020</td>\n",
              "      <td>NaN</td>\n",
              "      <td>Andorra</td>\n",
              "      <td>743</td>\n",
              "      <td>42</td>\n",
              "      <td>423</td>\n",
              "    </tr>\n",
              "    <tr>\n",
              "      <th>4</th>\n",
              "      <td>4/29/2020</td>\n",
              "      <td>NaN</td>\n",
              "      <td>Angola</td>\n",
              "      <td>27</td>\n",
              "      <td>2</td>\n",
              "      <td>7</td>\n",
              "    </tr>\n",
              "  </tbody>\n",
              "</table>\n",
              "</div>"
            ],
            "text/plain": [
              "        Date State       Region  Confirmed  Deaths  Recovered\n",
              "0  4/29/2020   NaN  Afghanistan       1939      60        252\n",
              "1  4/29/2020   NaN      Albania        766      30        455\n",
              "2  4/29/2020   NaN      Algeria       3848     444       1702\n",
              "3  4/29/2020   NaN      Andorra        743      42        423\n",
              "4  4/29/2020   NaN       Angola         27       2          7"
            ]
          },
          "metadata": {
            "tags": []
          },
          "execution_count": 3
        }
      ]
    },
    {
      "cell_type": "code",
      "metadata": {
        "id": "64PufRst7pRe",
        "colab": {
          "base_uri": "https://localhost:8080/"
        },
        "outputId": "5efddc2e-ad3c-4d7c-cad2-f702d6a5d773"
      },
      "source": [
        "df.shape"
      ],
      "execution_count": null,
      "outputs": [
        {
          "output_type": "execute_result",
          "data": {
            "text/plain": [
              "(321, 6)"
            ]
          },
          "metadata": {
            "tags": []
          },
          "execution_count": 4
        }
      ]
    },
    {
      "cell_type": "code",
      "metadata": {
        "colab": {
          "base_uri": "https://localhost:8080/"
        },
        "id": "UCEUS7E9fshh",
        "outputId": "59709265-0970-4901-d1ed-dd952dffd85c"
      },
      "source": [
        "df.index"
      ],
      "execution_count": null,
      "outputs": [
        {
          "output_type": "execute_result",
          "data": {
            "text/plain": [
              "RangeIndex(start=0, stop=321, step=1)"
            ]
          },
          "metadata": {
            "tags": []
          },
          "execution_count": 5
        }
      ]
    },
    {
      "cell_type": "code",
      "metadata": {
        "colab": {
          "base_uri": "https://localhost:8080/"
        },
        "id": "7Jfu_Dprfskb",
        "outputId": "914ef5c0-83cd-4e50-e90a-b63b408a9301"
      },
      "source": [
        "df.columns"
      ],
      "execution_count": null,
      "outputs": [
        {
          "output_type": "execute_result",
          "data": {
            "text/plain": [
              "Index(['Date', 'State', 'Region', 'Confirmed', 'Deaths', 'Recovered'], dtype='object')"
            ]
          },
          "metadata": {
            "tags": []
          },
          "execution_count": 6
        }
      ]
    },
    {
      "cell_type": "code",
      "metadata": {
        "colab": {
          "base_uri": "https://localhost:8080/"
        },
        "id": "hSncAGXqfsnU",
        "outputId": "ec9d0685-340d-4caa-a33d-805b2ded3123"
      },
      "source": [
        "df.dtypes"
      ],
      "execution_count": null,
      "outputs": [
        {
          "output_type": "execute_result",
          "data": {
            "text/plain": [
              "Date         object\n",
              "State        object\n",
              "Region       object\n",
              "Confirmed     int64\n",
              "Deaths        int64\n",
              "Recovered     int64\n",
              "dtype: object"
            ]
          },
          "metadata": {
            "tags": []
          },
          "execution_count": 7
        }
      ]
    },
    {
      "cell_type": "code",
      "metadata": {
        "colab": {
          "base_uri": "https://localhost:8080/"
        },
        "id": "djKW1oVUfsqB",
        "outputId": "85ab879f-9b6e-42f7-932f-c0331f3b10c6"
      },
      "source": [
        "df.nunique()"
      ],
      "execution_count": null,
      "outputs": [
        {
          "output_type": "execute_result",
          "data": {
            "text/plain": [
              "Date           1\n",
              "State        137\n",
              "Region       187\n",
              "Confirmed    282\n",
              "Deaths       142\n",
              "Recovered    195\n",
              "dtype: int64"
            ]
          },
          "metadata": {
            "tags": []
          },
          "execution_count": 8
        }
      ]
    },
    {
      "cell_type": "code",
      "metadata": {
        "colab": {
          "base_uri": "https://localhost:8080/"
        },
        "id": "oiW_58LQfsvc",
        "outputId": "1a805028-fc5d-4621-a149-40b5840098e2"
      },
      "source": [
        "df.count()"
      ],
      "execution_count": null,
      "outputs": [
        {
          "output_type": "execute_result",
          "data": {
            "text/plain": [
              "Date         321\n",
              "State        140\n",
              "Region       321\n",
              "Confirmed    321\n",
              "Deaths       321\n",
              "Recovered    321\n",
              "dtype: int64"
            ]
          },
          "metadata": {
            "tags": []
          },
          "execution_count": 13
        }
      ]
    },
    {
      "cell_type": "code",
      "metadata": {
        "colab": {
          "base_uri": "https://localhost:8080/"
        },
        "id": "piLwTx9ifs0p",
        "outputId": "90e2b8cf-eb5e-4c6c-f972-d2fed6cb50f1"
      },
      "source": [
        "df.info()"
      ],
      "execution_count": null,
      "outputs": [
        {
          "output_type": "stream",
          "text": [
            "<class 'pandas.core.frame.DataFrame'>\n",
            "RangeIndex: 321 entries, 0 to 320\n",
            "Data columns (total 6 columns):\n",
            " #   Column     Non-Null Count  Dtype \n",
            "---  ------     --------------  ----- \n",
            " 0   Date       321 non-null    object\n",
            " 1   State      140 non-null    object\n",
            " 2   Region     321 non-null    object\n",
            " 3   Confirmed  321 non-null    int64 \n",
            " 4   Deaths     321 non-null    int64 \n",
            " 5   Recovered  321 non-null    int64 \n",
            "dtypes: int64(3), object(3)\n",
            "memory usage: 15.2+ KB\n"
          ],
          "name": "stdout"
        }
      ]
    },
    {
      "cell_type": "markdown",
      "metadata": {
        "id": "_pjuv0JE7pRi"
      },
      "source": [
        "# Q1. Show the nummber of confirmed, death, recovered case in each region.\n"
      ]
    },
    {
      "cell_type": "code",
      "metadata": {
        "scrolled": true,
        "id": "RB0rez3T7pRj",
        "colab": {
          "base_uri": "https://localhost:8080/",
          "height": 195
        },
        "outputId": "0f80144b-963a-4a97-b50c-fe6cb8784a5b"
      },
      "source": [
        "df.head()"
      ],
      "execution_count": null,
      "outputs": [
        {
          "output_type": "execute_result",
          "data": {
            "text/html": [
              "<div>\n",
              "<style scoped>\n",
              "    .dataframe tbody tr th:only-of-type {\n",
              "        vertical-align: middle;\n",
              "    }\n",
              "\n",
              "    .dataframe tbody tr th {\n",
              "        vertical-align: top;\n",
              "    }\n",
              "\n",
              "    .dataframe thead th {\n",
              "        text-align: right;\n",
              "    }\n",
              "</style>\n",
              "<table border=\"1\" class=\"dataframe\">\n",
              "  <thead>\n",
              "    <tr style=\"text-align: right;\">\n",
              "      <th></th>\n",
              "      <th>Date</th>\n",
              "      <th>State</th>\n",
              "      <th>Region</th>\n",
              "      <th>Confirmed</th>\n",
              "      <th>Deaths</th>\n",
              "      <th>Recovered</th>\n",
              "    </tr>\n",
              "  </thead>\n",
              "  <tbody>\n",
              "    <tr>\n",
              "      <th>0</th>\n",
              "      <td>4/29/2020</td>\n",
              "      <td>NaN</td>\n",
              "      <td>Afghanistan</td>\n",
              "      <td>1939</td>\n",
              "      <td>60</td>\n",
              "      <td>252</td>\n",
              "    </tr>\n",
              "    <tr>\n",
              "      <th>1</th>\n",
              "      <td>4/29/2020</td>\n",
              "      <td>NaN</td>\n",
              "      <td>Albania</td>\n",
              "      <td>766</td>\n",
              "      <td>30</td>\n",
              "      <td>455</td>\n",
              "    </tr>\n",
              "    <tr>\n",
              "      <th>2</th>\n",
              "      <td>4/29/2020</td>\n",
              "      <td>NaN</td>\n",
              "      <td>Algeria</td>\n",
              "      <td>3848</td>\n",
              "      <td>444</td>\n",
              "      <td>1702</td>\n",
              "    </tr>\n",
              "    <tr>\n",
              "      <th>3</th>\n",
              "      <td>4/29/2020</td>\n",
              "      <td>NaN</td>\n",
              "      <td>Andorra</td>\n",
              "      <td>743</td>\n",
              "      <td>42</td>\n",
              "      <td>423</td>\n",
              "    </tr>\n",
              "    <tr>\n",
              "      <th>4</th>\n",
              "      <td>4/29/2020</td>\n",
              "      <td>NaN</td>\n",
              "      <td>Angola</td>\n",
              "      <td>27</td>\n",
              "      <td>2</td>\n",
              "      <td>7</td>\n",
              "    </tr>\n",
              "  </tbody>\n",
              "</table>\n",
              "</div>"
            ],
            "text/plain": [
              "        Date State       Region  Confirmed  Deaths  Recovered\n",
              "0  4/29/2020   NaN  Afghanistan       1939      60        252\n",
              "1  4/29/2020   NaN      Albania        766      30        455\n",
              "2  4/29/2020   NaN      Algeria       3848     444       1702\n",
              "3  4/29/2020   NaN      Andorra        743      42        423\n",
              "4  4/29/2020   NaN       Angola         27       2          7"
            ]
          },
          "metadata": {
            "tags": []
          },
          "execution_count": 15
        }
      ]
    },
    {
      "cell_type": "code",
      "metadata": {
        "id": "1pPX3Kwl7pRk",
        "colab": {
          "base_uri": "https://localhost:8080/",
          "height": 431
        },
        "outputId": "1aa71623-11e0-45a0-a7ce-ec5c8c773164"
      },
      "source": [
        "df.groupby('Region').sum()"
      ],
      "execution_count": null,
      "outputs": [
        {
          "output_type": "execute_result",
          "data": {
            "text/html": [
              "<div>\n",
              "<style scoped>\n",
              "    .dataframe tbody tr th:only-of-type {\n",
              "        vertical-align: middle;\n",
              "    }\n",
              "\n",
              "    .dataframe tbody tr th {\n",
              "        vertical-align: top;\n",
              "    }\n",
              "\n",
              "    .dataframe thead th {\n",
              "        text-align: right;\n",
              "    }\n",
              "</style>\n",
              "<table border=\"1\" class=\"dataframe\">\n",
              "  <thead>\n",
              "    <tr style=\"text-align: right;\">\n",
              "      <th></th>\n",
              "      <th>Confirmed</th>\n",
              "      <th>Deaths</th>\n",
              "      <th>Recovered</th>\n",
              "    </tr>\n",
              "    <tr>\n",
              "      <th>Region</th>\n",
              "      <th></th>\n",
              "      <th></th>\n",
              "      <th></th>\n",
              "    </tr>\n",
              "  </thead>\n",
              "  <tbody>\n",
              "    <tr>\n",
              "      <th>Afghanistan</th>\n",
              "      <td>1939</td>\n",
              "      <td>60</td>\n",
              "      <td>252</td>\n",
              "    </tr>\n",
              "    <tr>\n",
              "      <th>Albania</th>\n",
              "      <td>766</td>\n",
              "      <td>30</td>\n",
              "      <td>455</td>\n",
              "    </tr>\n",
              "    <tr>\n",
              "      <th>Algeria</th>\n",
              "      <td>3848</td>\n",
              "      <td>444</td>\n",
              "      <td>1702</td>\n",
              "    </tr>\n",
              "    <tr>\n",
              "      <th>Andorra</th>\n",
              "      <td>743</td>\n",
              "      <td>42</td>\n",
              "      <td>423</td>\n",
              "    </tr>\n",
              "    <tr>\n",
              "      <th>Angola</th>\n",
              "      <td>27</td>\n",
              "      <td>2</td>\n",
              "      <td>7</td>\n",
              "    </tr>\n",
              "    <tr>\n",
              "      <th>...</th>\n",
              "      <td>...</td>\n",
              "      <td>...</td>\n",
              "      <td>...</td>\n",
              "    </tr>\n",
              "    <tr>\n",
              "      <th>West Bank and Gaza</th>\n",
              "      <td>344</td>\n",
              "      <td>2</td>\n",
              "      <td>71</td>\n",
              "    </tr>\n",
              "    <tr>\n",
              "      <th>Western Sahara</th>\n",
              "      <td>6</td>\n",
              "      <td>0</td>\n",
              "      <td>5</td>\n",
              "    </tr>\n",
              "    <tr>\n",
              "      <th>Yemen</th>\n",
              "      <td>6</td>\n",
              "      <td>0</td>\n",
              "      <td>1</td>\n",
              "    </tr>\n",
              "    <tr>\n",
              "      <th>Zambia</th>\n",
              "      <td>97</td>\n",
              "      <td>3</td>\n",
              "      <td>54</td>\n",
              "    </tr>\n",
              "    <tr>\n",
              "      <th>Zimbabwe</th>\n",
              "      <td>32</td>\n",
              "      <td>4</td>\n",
              "      <td>5</td>\n",
              "    </tr>\n",
              "  </tbody>\n",
              "</table>\n",
              "<p>187 rows × 3 columns</p>\n",
              "</div>"
            ],
            "text/plain": [
              "                    Confirmed  Deaths  Recovered\n",
              "Region                                          \n",
              "Afghanistan              1939      60        252\n",
              "Albania                   766      30        455\n",
              "Algeria                  3848     444       1702\n",
              "Andorra                   743      42        423\n",
              "Angola                     27       2          7\n",
              "...                       ...     ...        ...\n",
              "West Bank and Gaza        344       2         71\n",
              "Western Sahara              6       0          5\n",
              "Yemen                       6       0          1\n",
              "Zambia                     97       3         54\n",
              "Zimbabwe                   32       4          5\n",
              "\n",
              "[187 rows x 3 columns]"
            ]
          },
          "metadata": {
            "tags": []
          },
          "execution_count": 16
        }
      ]
    },
    {
      "cell_type": "code",
      "metadata": {
        "colab": {
          "base_uri": "https://localhost:8080/"
        },
        "id": "iI98ravPhw9J",
        "outputId": "7ed0cbf2-8a7a-4883-e505-3b75d661325f"
      },
      "source": [
        "df.groupby('Region')['Confirmed'].sum().sort_values(ascending=False)"
      ],
      "execution_count": null,
      "outputs": [
        {
          "output_type": "execute_result",
          "data": {
            "text/plain": [
              "Region\n",
              "US                       1039909\n",
              "Spain                     236899\n",
              "Italy                     203591\n",
              "France                    166543\n",
              "UK                        166441\n",
              "                          ...   \n",
              "Sao Tome and Principe          8\n",
              "Papua New Guinea               8\n",
              "Bhutan                         7\n",
              "Western Sahara                 6\n",
              "Yemen                          6\n",
              "Name: Confirmed, Length: 187, dtype: int64"
            ]
          },
          "metadata": {
            "tags": []
          },
          "execution_count": 22
        }
      ]
    },
    {
      "cell_type": "code",
      "metadata": {
        "colab": {
          "base_uri": "https://localhost:8080/",
          "height": 485
        },
        "id": "AuGEJWnwiSbo",
        "outputId": "5c51311b-8f72-4ebe-bcd5-e8e55c702223"
      },
      "source": [
        "df.groupby('Region')['Confirmed','Recovered'].sum()"
      ],
      "execution_count": null,
      "outputs": [
        {
          "output_type": "stream",
          "text": [
            "/usr/local/lib/python3.7/dist-packages/ipykernel_launcher.py:1: FutureWarning: Indexing with multiple keys (implicitly converted to a tuple of keys) will be deprecated, use a list instead.\n",
            "  \"\"\"Entry point for launching an IPython kernel.\n"
          ],
          "name": "stderr"
        },
        {
          "output_type": "execute_result",
          "data": {
            "text/html": [
              "<div>\n",
              "<style scoped>\n",
              "    .dataframe tbody tr th:only-of-type {\n",
              "        vertical-align: middle;\n",
              "    }\n",
              "\n",
              "    .dataframe tbody tr th {\n",
              "        vertical-align: top;\n",
              "    }\n",
              "\n",
              "    .dataframe thead th {\n",
              "        text-align: right;\n",
              "    }\n",
              "</style>\n",
              "<table border=\"1\" class=\"dataframe\">\n",
              "  <thead>\n",
              "    <tr style=\"text-align: right;\">\n",
              "      <th></th>\n",
              "      <th>Confirmed</th>\n",
              "      <th>Recovered</th>\n",
              "    </tr>\n",
              "    <tr>\n",
              "      <th>Region</th>\n",
              "      <th></th>\n",
              "      <th></th>\n",
              "    </tr>\n",
              "  </thead>\n",
              "  <tbody>\n",
              "    <tr>\n",
              "      <th>Afghanistan</th>\n",
              "      <td>1939</td>\n",
              "      <td>252</td>\n",
              "    </tr>\n",
              "    <tr>\n",
              "      <th>Albania</th>\n",
              "      <td>766</td>\n",
              "      <td>455</td>\n",
              "    </tr>\n",
              "    <tr>\n",
              "      <th>Algeria</th>\n",
              "      <td>3848</td>\n",
              "      <td>1702</td>\n",
              "    </tr>\n",
              "    <tr>\n",
              "      <th>Andorra</th>\n",
              "      <td>743</td>\n",
              "      <td>423</td>\n",
              "    </tr>\n",
              "    <tr>\n",
              "      <th>Angola</th>\n",
              "      <td>27</td>\n",
              "      <td>7</td>\n",
              "    </tr>\n",
              "    <tr>\n",
              "      <th>...</th>\n",
              "      <td>...</td>\n",
              "      <td>...</td>\n",
              "    </tr>\n",
              "    <tr>\n",
              "      <th>West Bank and Gaza</th>\n",
              "      <td>344</td>\n",
              "      <td>71</td>\n",
              "    </tr>\n",
              "    <tr>\n",
              "      <th>Western Sahara</th>\n",
              "      <td>6</td>\n",
              "      <td>5</td>\n",
              "    </tr>\n",
              "    <tr>\n",
              "      <th>Yemen</th>\n",
              "      <td>6</td>\n",
              "      <td>1</td>\n",
              "    </tr>\n",
              "    <tr>\n",
              "      <th>Zambia</th>\n",
              "      <td>97</td>\n",
              "      <td>54</td>\n",
              "    </tr>\n",
              "    <tr>\n",
              "      <th>Zimbabwe</th>\n",
              "      <td>32</td>\n",
              "      <td>5</td>\n",
              "    </tr>\n",
              "  </tbody>\n",
              "</table>\n",
              "<p>187 rows × 2 columns</p>\n",
              "</div>"
            ],
            "text/plain": [
              "                    Confirmed  Recovered\n",
              "Region                                  \n",
              "Afghanistan              1939        252\n",
              "Albania                   766        455\n",
              "Algeria                  3848       1702\n",
              "Andorra                   743        423\n",
              "Angola                     27          7\n",
              "...                       ...        ...\n",
              "West Bank and Gaza        344         71\n",
              "Western Sahara              6          5\n",
              "Yemen                       6          1\n",
              "Zambia                     97         54\n",
              "Zimbabwe                   32          5\n",
              "\n",
              "[187 rows x 2 columns]"
            ]
          },
          "metadata": {
            "tags": []
          },
          "execution_count": 25
        }
      ]
    },
    {
      "cell_type": "markdown",
      "metadata": {
        "id": "Sto77DlSH2nR"
      },
      "source": [
        "\n",
        "# Q2. Remove all the records where where confirmed cases is less then 10.\n"
      ]
    },
    {
      "cell_type": "code",
      "metadata": {
        "scrolled": false,
        "id": "FRUURBVx7pRk",
        "colab": {
          "base_uri": "https://localhost:8080/",
          "height": 402
        },
        "outputId": "fb550247-72d7-433b-c162-2b1a7a2eb699"
      },
      "source": [
        "df[ ~(df['Confirmed']<10) ]"
      ],
      "execution_count": null,
      "outputs": [
        {
          "output_type": "execute_result",
          "data": {
            "text/html": [
              "<div>\n",
              "<style scoped>\n",
              "    .dataframe tbody tr th:only-of-type {\n",
              "        vertical-align: middle;\n",
              "    }\n",
              "\n",
              "    .dataframe tbody tr th {\n",
              "        vertical-align: top;\n",
              "    }\n",
              "\n",
              "    .dataframe thead th {\n",
              "        text-align: right;\n",
              "    }\n",
              "</style>\n",
              "<table border=\"1\" class=\"dataframe\">\n",
              "  <thead>\n",
              "    <tr style=\"text-align: right;\">\n",
              "      <th></th>\n",
              "      <th>Date</th>\n",
              "      <th>State</th>\n",
              "      <th>Region</th>\n",
              "      <th>Confirmed</th>\n",
              "      <th>Deaths</th>\n",
              "      <th>Recovered</th>\n",
              "    </tr>\n",
              "  </thead>\n",
              "  <tbody>\n",
              "    <tr>\n",
              "      <th>0</th>\n",
              "      <td>4/29/2020</td>\n",
              "      <td>NaN</td>\n",
              "      <td>Afghanistan</td>\n",
              "      <td>1939</td>\n",
              "      <td>60</td>\n",
              "      <td>252</td>\n",
              "    </tr>\n",
              "    <tr>\n",
              "      <th>1</th>\n",
              "      <td>4/29/2020</td>\n",
              "      <td>NaN</td>\n",
              "      <td>Albania</td>\n",
              "      <td>766</td>\n",
              "      <td>30</td>\n",
              "      <td>455</td>\n",
              "    </tr>\n",
              "    <tr>\n",
              "      <th>2</th>\n",
              "      <td>4/29/2020</td>\n",
              "      <td>NaN</td>\n",
              "      <td>Algeria</td>\n",
              "      <td>3848</td>\n",
              "      <td>444</td>\n",
              "      <td>1702</td>\n",
              "    </tr>\n",
              "    <tr>\n",
              "      <th>3</th>\n",
              "      <td>4/29/2020</td>\n",
              "      <td>NaN</td>\n",
              "      <td>Andorra</td>\n",
              "      <td>743</td>\n",
              "      <td>42</td>\n",
              "      <td>423</td>\n",
              "    </tr>\n",
              "    <tr>\n",
              "      <th>4</th>\n",
              "      <td>4/29/2020</td>\n",
              "      <td>NaN</td>\n",
              "      <td>Angola</td>\n",
              "      <td>27</td>\n",
              "      <td>2</td>\n",
              "      <td>7</td>\n",
              "    </tr>\n",
              "    <tr>\n",
              "      <th>...</th>\n",
              "      <td>...</td>\n",
              "      <td>...</td>\n",
              "      <td>...</td>\n",
              "      <td>...</td>\n",
              "      <td>...</td>\n",
              "      <td>...</td>\n",
              "    </tr>\n",
              "    <tr>\n",
              "      <th>316</th>\n",
              "      <td>4/29/2020</td>\n",
              "      <td>Wyoming</td>\n",
              "      <td>US</td>\n",
              "      <td>545</td>\n",
              "      <td>7</td>\n",
              "      <td>0</td>\n",
              "    </tr>\n",
              "    <tr>\n",
              "      <th>317</th>\n",
              "      <td>4/29/2020</td>\n",
              "      <td>Xinjiang</td>\n",
              "      <td>Mainland China</td>\n",
              "      <td>76</td>\n",
              "      <td>3</td>\n",
              "      <td>73</td>\n",
              "    </tr>\n",
              "    <tr>\n",
              "      <th>318</th>\n",
              "      <td>4/29/2020</td>\n",
              "      <td>Yukon</td>\n",
              "      <td>Canada</td>\n",
              "      <td>11</td>\n",
              "      <td>0</td>\n",
              "      <td>0</td>\n",
              "    </tr>\n",
              "    <tr>\n",
              "      <th>319</th>\n",
              "      <td>4/29/2020</td>\n",
              "      <td>Yunnan</td>\n",
              "      <td>Mainland China</td>\n",
              "      <td>185</td>\n",
              "      <td>2</td>\n",
              "      <td>181</td>\n",
              "    </tr>\n",
              "    <tr>\n",
              "      <th>320</th>\n",
              "      <td>4/29/2020</td>\n",
              "      <td>Zhejiang</td>\n",
              "      <td>Mainland China</td>\n",
              "      <td>1268</td>\n",
              "      <td>1</td>\n",
              "      <td>1263</td>\n",
              "    </tr>\n",
              "  </tbody>\n",
              "</table>\n",
              "<p>304 rows × 6 columns</p>\n",
              "</div>"
            ],
            "text/plain": [
              "          Date     State          Region  Confirmed  Deaths  Recovered\n",
              "0    4/29/2020       NaN     Afghanistan       1939      60        252\n",
              "1    4/29/2020       NaN         Albania        766      30        455\n",
              "2    4/29/2020       NaN         Algeria       3848     444       1702\n",
              "3    4/29/2020       NaN         Andorra        743      42        423\n",
              "4    4/29/2020       NaN          Angola         27       2          7\n",
              "..         ...       ...             ...        ...     ...        ...\n",
              "316  4/29/2020   Wyoming              US        545       7          0\n",
              "317  4/29/2020  Xinjiang  Mainland China         76       3         73\n",
              "318  4/29/2020     Yukon          Canada         11       0          0\n",
              "319  4/29/2020    Yunnan  Mainland China        185       2        181\n",
              "320  4/29/2020  Zhejiang  Mainland China       1268       1       1263\n",
              "\n",
              "[304 rows x 6 columns]"
            ]
          },
          "metadata": {
            "tags": []
          },
          "execution_count": 27
        }
      ]
    },
    {
      "cell_type": "markdown",
      "metadata": {
        "id": "09BtIVtj7pRl"
      },
      "source": [
        "# Q3. In which region maximum number of confirmed cases recorded ?\n"
      ]
    },
    {
      "cell_type": "code",
      "metadata": {
        "id": "5YFGULpm7pRl",
        "colab": {
          "base_uri": "https://localhost:8080/"
        },
        "outputId": "4359226e-ff04-48fc-a98d-09de420734aa"
      },
      "source": [
        "df.groupby('Region')['Confirmed'].sum().sort_values(ascending=False)"
      ],
      "execution_count": null,
      "outputs": [
        {
          "output_type": "execute_result",
          "data": {
            "text/plain": [
              "Region\n",
              "US                       1039909\n",
              "Spain                     236899\n",
              "Italy                     203591\n",
              "France                    166543\n",
              "UK                        166441\n",
              "                          ...   \n",
              "Sao Tome and Principe          8\n",
              "Papua New Guinea               8\n",
              "Bhutan                         7\n",
              "Western Sahara                 6\n",
              "Yemen                          6\n",
              "Name: Confirmed, Length: 187, dtype: int64"
            ]
          },
          "metadata": {
            "tags": []
          },
          "execution_count": 28
        }
      ]
    },
    {
      "cell_type": "code",
      "metadata": {
        "scrolled": true,
        "id": "e1aAtMFY7pRm",
        "colab": {
          "base_uri": "https://localhost:8080/"
        },
        "outputId": "61d5d586-3014-4116-8d8b-7c2db63ee070"
      },
      "source": [
        "df.groupby('Region').Confirmed.sum().sort_values(ascending=False)"
      ],
      "execution_count": null,
      "outputs": [
        {
          "output_type": "execute_result",
          "data": {
            "text/plain": [
              "Region\n",
              "US                       1039909\n",
              "Spain                     236899\n",
              "Italy                     203591\n",
              "France                    166543\n",
              "UK                        166441\n",
              "                          ...   \n",
              "Sao Tome and Principe          8\n",
              "Papua New Guinea               8\n",
              "Bhutan                         7\n",
              "Western Sahara                 6\n",
              "Yemen                          6\n",
              "Name: Confirmed, Length: 187, dtype: int64"
            ]
          },
          "metadata": {
            "tags": []
          },
          "execution_count": 29
        }
      ]
    },
    {
      "cell_type": "markdown",
      "metadata": {
        "id": "vgvTCVuV7pRn"
      },
      "source": [
        "# Q4. In which region maximum number of death cases recorded ?\n"
      ]
    },
    {
      "cell_type": "code",
      "metadata": {
        "scrolled": true,
        "id": "Cn--KGPN7pRn",
        "colab": {
          "base_uri": "https://localhost:8080/"
        },
        "outputId": "6bcc1950-d378-4fa1-d712-3f5c27462f75"
      },
      "source": [
        "df.groupby('Region')['Deaths'].sum().sort_values(ascending=False)"
      ],
      "execution_count": null,
      "outputs": [
        {
          "output_type": "execute_result",
          "data": {
            "text/plain": [
              "Region\n",
              "US            60967\n",
              "Italy         27682\n",
              "UK            26166\n",
              "Spain         24275\n",
              "France        24121\n",
              "              ...  \n",
              "Fiji              0\n",
              "Cambodia          0\n",
              "Mozambique        0\n",
              "Mongolia          0\n",
              "Laos              0\n",
              "Name: Deaths, Length: 187, dtype: int64"
            ]
          },
          "metadata": {
            "tags": []
          },
          "execution_count": 30
        }
      ]
    },
    {
      "cell_type": "code",
      "metadata": {
        "scrolled": true,
        "id": "H4eUgDfb7pRo"
      },
      "source": [
        ""
      ],
      "execution_count": null,
      "outputs": []
    },
    {
      "cell_type": "markdown",
      "metadata": {
        "id": "Pby0fTNG7pRp"
      },
      "source": [
        "# Q5. How many confirmed, death, recovered cases come from india till 24th April 2020.\n"
      ]
    },
    {
      "cell_type": "code",
      "metadata": {
        "id": "_jHcgR9g7pRp",
        "colab": {
          "base_uri": "https://localhost:8080/",
          "height": 77
        },
        "outputId": "794f7ad1-cc54-4203-d5b2-0c3515ad0774"
      },
      "source": [
        "df[df.Region=='India']"
      ],
      "execution_count": null,
      "outputs": [
        {
          "output_type": "execute_result",
          "data": {
            "text/html": [
              "<div>\n",
              "<style scoped>\n",
              "    .dataframe tbody tr th:only-of-type {\n",
              "        vertical-align: middle;\n",
              "    }\n",
              "\n",
              "    .dataframe tbody tr th {\n",
              "        vertical-align: top;\n",
              "    }\n",
              "\n",
              "    .dataframe thead th {\n",
              "        text-align: right;\n",
              "    }\n",
              "</style>\n",
              "<table border=\"1\" class=\"dataframe\">\n",
              "  <thead>\n",
              "    <tr style=\"text-align: right;\">\n",
              "      <th></th>\n",
              "      <th>Date</th>\n",
              "      <th>State</th>\n",
              "      <th>Region</th>\n",
              "      <th>Confirmed</th>\n",
              "      <th>Deaths</th>\n",
              "      <th>Recovered</th>\n",
              "    </tr>\n",
              "  </thead>\n",
              "  <tbody>\n",
              "    <tr>\n",
              "      <th>74</th>\n",
              "      <td>4/29/2020</td>\n",
              "      <td>NaN</td>\n",
              "      <td>India</td>\n",
              "      <td>33062</td>\n",
              "      <td>1079</td>\n",
              "      <td>8437</td>\n",
              "    </tr>\n",
              "  </tbody>\n",
              "</table>\n",
              "</div>"
            ],
            "text/plain": [
              "         Date State Region  Confirmed  Deaths  Recovered\n",
              "74  4/29/2020   NaN  India      33062    1079       8437"
            ]
          },
          "metadata": {
            "tags": []
          },
          "execution_count": 31
        }
      ]
    },
    {
      "cell_type": "markdown",
      "metadata": {
        "id": "5vtMjaAvIPQX"
      },
      "source": [
        "# Q6. Sort the entire data wrt no. of confirmed cases in ascending order."
      ]
    },
    {
      "cell_type": "code",
      "metadata": {
        "id": "gBbxl9o17pRq",
        "colab": {
          "base_uri": "https://localhost:8080/",
          "height": 402
        },
        "outputId": "ecf619d3-7800-4eef-ac5a-7af04c3f5732"
      },
      "source": [
        "df.sort_values(by='Confirmed', ascending=True)"
      ],
      "execution_count": null,
      "outputs": [
        {
          "output_type": "execute_result",
          "data": {
            "text/html": [
              "<div>\n",
              "<style scoped>\n",
              "    .dataframe tbody tr th:only-of-type {\n",
              "        vertical-align: middle;\n",
              "    }\n",
              "\n",
              "    .dataframe tbody tr th {\n",
              "        vertical-align: top;\n",
              "    }\n",
              "\n",
              "    .dataframe thead th {\n",
              "        text-align: right;\n",
              "    }\n",
              "</style>\n",
              "<table border=\"1\" class=\"dataframe\">\n",
              "  <thead>\n",
              "    <tr style=\"text-align: right;\">\n",
              "      <th></th>\n",
              "      <th>Date</th>\n",
              "      <th>State</th>\n",
              "      <th>Region</th>\n",
              "      <th>Confirmed</th>\n",
              "      <th>Deaths</th>\n",
              "      <th>Recovered</th>\n",
              "    </tr>\n",
              "  </thead>\n",
              "  <tbody>\n",
              "    <tr>\n",
              "      <th>285</th>\n",
              "      <td>4/29/2020</td>\n",
              "      <td>Recovered</td>\n",
              "      <td>US</td>\n",
              "      <td>0</td>\n",
              "      <td>0</td>\n",
              "      <td>120720</td>\n",
              "    </tr>\n",
              "    <tr>\n",
              "      <th>284</th>\n",
              "      <td>4/29/2020</td>\n",
              "      <td>Recovered</td>\n",
              "      <td>Canada</td>\n",
              "      <td>0</td>\n",
              "      <td>0</td>\n",
              "      <td>20327</td>\n",
              "    </tr>\n",
              "    <tr>\n",
              "      <th>203</th>\n",
              "      <td>4/29/2020</td>\n",
              "      <td>Diamond Princess cruise ship</td>\n",
              "      <td>Canada</td>\n",
              "      <td>0</td>\n",
              "      <td>1</td>\n",
              "      <td>0</td>\n",
              "    </tr>\n",
              "    <tr>\n",
              "      <th>305</th>\n",
              "      <td>4/29/2020</td>\n",
              "      <td>Tibet</td>\n",
              "      <td>Mainland China</td>\n",
              "      <td>1</td>\n",
              "      <td>0</td>\n",
              "      <td>1</td>\n",
              "    </tr>\n",
              "    <tr>\n",
              "      <th>289</th>\n",
              "      <td>4/29/2020</td>\n",
              "      <td>Saint Pierre and Miquelon</td>\n",
              "      <td>France</td>\n",
              "      <td>1</td>\n",
              "      <td>0</td>\n",
              "      <td>0</td>\n",
              "    </tr>\n",
              "    <tr>\n",
              "      <th>...</th>\n",
              "      <td>...</td>\n",
              "      <td>...</td>\n",
              "      <td>...</td>\n",
              "      <td>...</td>\n",
              "      <td>...</td>\n",
              "      <td>...</td>\n",
              "    </tr>\n",
              "    <tr>\n",
              "      <th>57</th>\n",
              "      <td>4/29/2020</td>\n",
              "      <td>NaN</td>\n",
              "      <td>France</td>\n",
              "      <td>165093</td>\n",
              "      <td>24087</td>\n",
              "      <td>48228</td>\n",
              "    </tr>\n",
              "    <tr>\n",
              "      <th>168</th>\n",
              "      <td>4/29/2020</td>\n",
              "      <td>NaN</td>\n",
              "      <td>UK</td>\n",
              "      <td>165221</td>\n",
              "      <td>26097</td>\n",
              "      <td>0</td>\n",
              "    </tr>\n",
              "    <tr>\n",
              "      <th>80</th>\n",
              "      <td>4/29/2020</td>\n",
              "      <td>NaN</td>\n",
              "      <td>Italy</td>\n",
              "      <td>203591</td>\n",
              "      <td>27682</td>\n",
              "      <td>71252</td>\n",
              "    </tr>\n",
              "    <tr>\n",
              "      <th>153</th>\n",
              "      <td>4/29/2020</td>\n",
              "      <td>NaN</td>\n",
              "      <td>Spain</td>\n",
              "      <td>236899</td>\n",
              "      <td>24275</td>\n",
              "      <td>132929</td>\n",
              "    </tr>\n",
              "    <tr>\n",
              "      <th>265</th>\n",
              "      <td>4/29/2020</td>\n",
              "      <td>New York</td>\n",
              "      <td>US</td>\n",
              "      <td>299691</td>\n",
              "      <td>23477</td>\n",
              "      <td>0</td>\n",
              "    </tr>\n",
              "  </tbody>\n",
              "</table>\n",
              "<p>321 rows × 6 columns</p>\n",
              "</div>"
            ],
            "text/plain": [
              "          Date                         State  ... Deaths  Recovered\n",
              "285  4/29/2020                     Recovered  ...      0     120720\n",
              "284  4/29/2020                     Recovered  ...      0      20327\n",
              "203  4/29/2020  Diamond Princess cruise ship  ...      1          0\n",
              "305  4/29/2020                         Tibet  ...      0          1\n",
              "289  4/29/2020     Saint Pierre and Miquelon  ...      0          0\n",
              "..         ...                           ...  ...    ...        ...\n",
              "57   4/29/2020                           NaN  ...  24087      48228\n",
              "168  4/29/2020                           NaN  ...  26097          0\n",
              "80   4/29/2020                           NaN  ...  27682      71252\n",
              "153  4/29/2020                           NaN  ...  24275     132929\n",
              "265  4/29/2020                      New York  ...  23477          0\n",
              "\n",
              "[321 rows x 6 columns]"
            ]
          },
          "metadata": {
            "tags": []
          },
          "execution_count": 33
        }
      ]
    },
    {
      "cell_type": "code",
      "metadata": {
        "scrolled": true,
        "id": "9xBwUntf7pRq"
      },
      "source": [
        ""
      ],
      "execution_count": null,
      "outputs": []
    },
    {
      "cell_type": "markdown",
      "metadata": {
        "id": "4gPVVT74IQZz"
      },
      "source": [
        "\n",
        "# Q7. Sort the entire data wrt no. of confirmed cases in ascending order."
      ]
    },
    {
      "cell_type": "code",
      "metadata": {
        "scrolled": true,
        "id": "NY4K987N7pRr",
        "colab": {
          "base_uri": "https://localhost:8080/",
          "height": 402
        },
        "outputId": "03e5ade2-74dd-4c99-bc10-a21b7df5e771"
      },
      "source": [
        "df.sort_values(by='Confirmed', ascending=False)"
      ],
      "execution_count": null,
      "outputs": [
        {
          "output_type": "execute_result",
          "data": {
            "text/html": [
              "<div>\n",
              "<style scoped>\n",
              "    .dataframe tbody tr th:only-of-type {\n",
              "        vertical-align: middle;\n",
              "    }\n",
              "\n",
              "    .dataframe tbody tr th {\n",
              "        vertical-align: top;\n",
              "    }\n",
              "\n",
              "    .dataframe thead th {\n",
              "        text-align: right;\n",
              "    }\n",
              "</style>\n",
              "<table border=\"1\" class=\"dataframe\">\n",
              "  <thead>\n",
              "    <tr style=\"text-align: right;\">\n",
              "      <th></th>\n",
              "      <th>Date</th>\n",
              "      <th>State</th>\n",
              "      <th>Region</th>\n",
              "      <th>Confirmed</th>\n",
              "      <th>Deaths</th>\n",
              "      <th>Recovered</th>\n",
              "    </tr>\n",
              "  </thead>\n",
              "  <tbody>\n",
              "    <tr>\n",
              "      <th>265</th>\n",
              "      <td>4/29/2020</td>\n",
              "      <td>New York</td>\n",
              "      <td>US</td>\n",
              "      <td>299691</td>\n",
              "      <td>23477</td>\n",
              "      <td>0</td>\n",
              "    </tr>\n",
              "    <tr>\n",
              "      <th>153</th>\n",
              "      <td>4/29/2020</td>\n",
              "      <td>NaN</td>\n",
              "      <td>Spain</td>\n",
              "      <td>236899</td>\n",
              "      <td>24275</td>\n",
              "      <td>132929</td>\n",
              "    </tr>\n",
              "    <tr>\n",
              "      <th>80</th>\n",
              "      <td>4/29/2020</td>\n",
              "      <td>NaN</td>\n",
              "      <td>Italy</td>\n",
              "      <td>203591</td>\n",
              "      <td>27682</td>\n",
              "      <td>71252</td>\n",
              "    </tr>\n",
              "    <tr>\n",
              "      <th>168</th>\n",
              "      <td>4/29/2020</td>\n",
              "      <td>NaN</td>\n",
              "      <td>UK</td>\n",
              "      <td>165221</td>\n",
              "      <td>26097</td>\n",
              "      <td>0</td>\n",
              "    </tr>\n",
              "    <tr>\n",
              "      <th>57</th>\n",
              "      <td>4/29/2020</td>\n",
              "      <td>NaN</td>\n",
              "      <td>France</td>\n",
              "      <td>165093</td>\n",
              "      <td>24087</td>\n",
              "      <td>48228</td>\n",
              "    </tr>\n",
              "    <tr>\n",
              "      <th>...</th>\n",
              "      <td>...</td>\n",
              "      <td>...</td>\n",
              "      <td>...</td>\n",
              "      <td>...</td>\n",
              "      <td>...</td>\n",
              "      <td>...</td>\n",
              "    </tr>\n",
              "    <tr>\n",
              "      <th>305</th>\n",
              "      <td>4/29/2020</td>\n",
              "      <td>Tibet</td>\n",
              "      <td>Mainland China</td>\n",
              "      <td>1</td>\n",
              "      <td>0</td>\n",
              "      <td>1</td>\n",
              "    </tr>\n",
              "    <tr>\n",
              "      <th>289</th>\n",
              "      <td>4/29/2020</td>\n",
              "      <td>Saint Pierre and Miquelon</td>\n",
              "      <td>France</td>\n",
              "      <td>1</td>\n",
              "      <td>0</td>\n",
              "      <td>0</td>\n",
              "    </tr>\n",
              "    <tr>\n",
              "      <th>285</th>\n",
              "      <td>4/29/2020</td>\n",
              "      <td>Recovered</td>\n",
              "      <td>US</td>\n",
              "      <td>0</td>\n",
              "      <td>0</td>\n",
              "      <td>120720</td>\n",
              "    </tr>\n",
              "    <tr>\n",
              "      <th>284</th>\n",
              "      <td>4/29/2020</td>\n",
              "      <td>Recovered</td>\n",
              "      <td>Canada</td>\n",
              "      <td>0</td>\n",
              "      <td>0</td>\n",
              "      <td>20327</td>\n",
              "    </tr>\n",
              "    <tr>\n",
              "      <th>203</th>\n",
              "      <td>4/29/2020</td>\n",
              "      <td>Diamond Princess cruise ship</td>\n",
              "      <td>Canada</td>\n",
              "      <td>0</td>\n",
              "      <td>1</td>\n",
              "      <td>0</td>\n",
              "    </tr>\n",
              "  </tbody>\n",
              "</table>\n",
              "<p>321 rows × 6 columns</p>\n",
              "</div>"
            ],
            "text/plain": [
              "          Date                         State  ... Deaths  Recovered\n",
              "265  4/29/2020                      New York  ...  23477          0\n",
              "153  4/29/2020                           NaN  ...  24275     132929\n",
              "80   4/29/2020                           NaN  ...  27682      71252\n",
              "168  4/29/2020                           NaN  ...  26097          0\n",
              "57   4/29/2020                           NaN  ...  24087      48228\n",
              "..         ...                           ...  ...    ...        ...\n",
              "305  4/29/2020                         Tibet  ...      0          1\n",
              "289  4/29/2020     Saint Pierre and Miquelon  ...      0          0\n",
              "285  4/29/2020                     Recovered  ...      0     120720\n",
              "284  4/29/2020                     Recovered  ...      0      20327\n",
              "203  4/29/2020  Diamond Princess cruise ship  ...      1          0\n",
              "\n",
              "[321 rows x 6 columns]"
            ]
          },
          "metadata": {
            "tags": []
          },
          "execution_count": 34
        }
      ]
    },
    {
      "cell_type": "code",
      "metadata": {
        "id": "N6-OHH5OnjKP"
      },
      "source": [
        ""
      ],
      "execution_count": null,
      "outputs": []
    }
  ]
}