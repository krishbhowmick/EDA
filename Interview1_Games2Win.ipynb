{
  "nbformat": 4,
  "nbformat_minor": 0,
  "metadata": {
    "anaconda-cloud": {},
    "colab": {
      "name": "Interview1-Games2Win",
      "provenance": [],
      "include_colab_link": true
    },
    "kernelspec": {
      "display_name": "Python [conda root]",
      "language": "python",
      "name": "conda-root-py"
    },
    "language_info": {
      "codemirror_mode": {
        "name": "ipython",
        "version": 3
      },
      "file_extension": ".py",
      "mimetype": "text/x-python",
      "name": "python",
      "nbconvert_exporter": "python",
      "pygments_lexer": "ipython3",
      "version": "3.5.2"
    }
  },
  "cells": [
    {
      "cell_type": "markdown",
      "metadata": {
        "id": "view-in-github",
        "colab_type": "text"
      },
      "source": [
        "<a href=\"https://colab.research.google.com/github/krishbhowmick/EDA/blob/main/Interview1_Games2Win.ipynb\" target=\"_parent\"><img src=\"https://colab.research.google.com/assets/colab-badge.svg\" alt=\"Open In Colab\"/></a>"
      ]
    },
    {
      "cell_type": "markdown",
      "metadata": {
        "id": "MqYDUwAq5r5N"
      },
      "source": [
        "## <font color=\"maroon\"><h4 align=\"center\">Games 2 Win</font>"
      ]
    },
    {
      "cell_type": "code",
      "metadata": {
        "colab": {
          "base_uri": "https://localhost:8080/"
        },
        "id": "NrKnrogVDjGZ",
        "outputId": "e8b101fe-94bc-441e-ede2-a3ddb3a8f2f9"
      },
      "source": [
        "# Connect the google drive with google Colab\n",
        "\n",
        "from google.colab import drive\n",
        "drive.mount('/content/drive/')"
      ],
      "execution_count": null,
      "outputs": [
        {
          "output_type": "stream",
          "text": [
            "Mounted at /content/drive/\n"
          ],
          "name": "stdout"
        }
      ]
    },
    {
      "cell_type": "code",
      "metadata": {
        "colab": {
          "base_uri": "https://localhost:8080/",
          "height": 204
        },
        "id": "3m18v9WXGM9L",
        "outputId": "1e0114f9-ada0-4c81-af63-d808c900e9a9"
      },
      "source": [
        "import pandas as pd \n",
        "df = pd.read_csv(\"/content/drive/MyDrive/Games2Win/Data Table - For Analytics Assignment - items_bought.csv\" )\n",
        "df.head(5)\n"
      ],
      "execution_count": null,
      "outputs": [
        {
          "output_type": "execute_result",
          "data": {
            "text/html": [
              "<div>\n",
              "<style scoped>\n",
              "    .dataframe tbody tr th:only-of-type {\n",
              "        vertical-align: middle;\n",
              "    }\n",
              "\n",
              "    .dataframe tbody tr th {\n",
              "        vertical-align: top;\n",
              "    }\n",
              "\n",
              "    .dataframe thead th {\n",
              "        text-align: right;\n",
              "    }\n",
              "</style>\n",
              "<table border=\"1\" class=\"dataframe\">\n",
              "  <thead>\n",
              "    <tr style=\"text-align: right;\">\n",
              "      <th></th>\n",
              "      <th>id</th>\n",
              "      <th>country</th>\n",
              "      <th>date</th>\n",
              "      <th>item_name</th>\n",
              "      <th>iap_price</th>\n",
              "    </tr>\n",
              "  </thead>\n",
              "  <tbody>\n",
              "    <tr>\n",
              "      <th>0</th>\n",
              "      <td>1C91E019A6B349FBA63233528F1F0099</td>\n",
              "      <td>United States</td>\n",
              "      <td>31-Oct-18</td>\n",
              "      <td>budget</td>\n",
              "      <td>1.99</td>\n",
              "    </tr>\n",
              "    <tr>\n",
              "      <th>1</th>\n",
              "      <td>BC3BA5F6D7024DF3AF2E253C66DD954A</td>\n",
              "      <td>United States</td>\n",
              "      <td>26-Dec-18</td>\n",
              "      <td>budget</td>\n",
              "      <td>1.99</td>\n",
              "    </tr>\n",
              "    <tr>\n",
              "      <th>2</th>\n",
              "      <td>A87D86FBF0754DED8A4FF70B6FCCA51F</td>\n",
              "      <td>United States</td>\n",
              "      <td>27-Dec-18</td>\n",
              "      <td>budget</td>\n",
              "      <td>1.99</td>\n",
              "    </tr>\n",
              "    <tr>\n",
              "      <th>3</th>\n",
              "      <td>2A07E2D8F8F14238BC1934D9900D20C0</td>\n",
              "      <td>United States</td>\n",
              "      <td>21-Jan-19</td>\n",
              "      <td>budget</td>\n",
              "      <td>1.99</td>\n",
              "    </tr>\n",
              "    <tr>\n",
              "      <th>4</th>\n",
              "      <td>BB0BE1B3526A459B8C13D1E8B5904042</td>\n",
              "      <td>United States</td>\n",
              "      <td>27-Jan-19</td>\n",
              "      <td>budget</td>\n",
              "      <td>1.99</td>\n",
              "    </tr>\n",
              "  </tbody>\n",
              "</table>\n",
              "</div>"
            ],
            "text/plain": [
              "                                 id        country  ... item_name iap_price\n",
              "0  1C91E019A6B349FBA63233528F1F0099  United States  ...    budget      1.99\n",
              "1  BC3BA5F6D7024DF3AF2E253C66DD954A  United States  ...    budget      1.99\n",
              "2  A87D86FBF0754DED8A4FF70B6FCCA51F  United States  ...    budget      1.99\n",
              "3  2A07E2D8F8F14238BC1934D9900D20C0  United States  ...    budget      1.99\n",
              "4  BB0BE1B3526A459B8C13D1E8B5904042  United States  ...    budget      1.99\n",
              "\n",
              "[5 rows x 5 columns]"
            ]
          },
          "metadata": {
            "tags": []
          },
          "execution_count": 79
        }
      ]
    },
    {
      "cell_type": "code",
      "metadata": {
        "id": "x-nSFeOYTQrP",
        "colab": {
          "base_uri": "https://localhost:8080/",
          "height": 359
        },
        "outputId": "662848d4-2459-4406-ce5e-cb60bd1af4ed"
      },
      "source": [
        "#Using dictionary\n",
        "import pandas as pd\n",
        "citydata = {\n",
        "    'id': ['A','B','A','C','A','B','D','A','D','C'],\n",
        "    'city': ['Mum','Mum','Hyd','Del','Kol','Mum','Hyd','Kol','Kol','Mum'],\n",
        "    'score': [10,7,6,8,8,9,5,9,8,9]\n",
        "}\n",
        "q = pd.DataFrame(citydata)\n",
        "q"
      ],
      "execution_count": null,
      "outputs": [
        {
          "output_type": "execute_result",
          "data": {
            "text/html": [
              "<div>\n",
              "<style scoped>\n",
              "    .dataframe tbody tr th:only-of-type {\n",
              "        vertical-align: middle;\n",
              "    }\n",
              "\n",
              "    .dataframe tbody tr th {\n",
              "        vertical-align: top;\n",
              "    }\n",
              "\n",
              "    .dataframe thead th {\n",
              "        text-align: right;\n",
              "    }\n",
              "</style>\n",
              "<table border=\"1\" class=\"dataframe\">\n",
              "  <thead>\n",
              "    <tr style=\"text-align: right;\">\n",
              "      <th></th>\n",
              "      <th>id</th>\n",
              "      <th>city</th>\n",
              "      <th>score</th>\n",
              "    </tr>\n",
              "  </thead>\n",
              "  <tbody>\n",
              "    <tr>\n",
              "      <th>0</th>\n",
              "      <td>A</td>\n",
              "      <td>Mum</td>\n",
              "      <td>10</td>\n",
              "    </tr>\n",
              "    <tr>\n",
              "      <th>1</th>\n",
              "      <td>B</td>\n",
              "      <td>Mum</td>\n",
              "      <td>7</td>\n",
              "    </tr>\n",
              "    <tr>\n",
              "      <th>2</th>\n",
              "      <td>A</td>\n",
              "      <td>Hyd</td>\n",
              "      <td>6</td>\n",
              "    </tr>\n",
              "    <tr>\n",
              "      <th>3</th>\n",
              "      <td>C</td>\n",
              "      <td>Del</td>\n",
              "      <td>8</td>\n",
              "    </tr>\n",
              "    <tr>\n",
              "      <th>4</th>\n",
              "      <td>A</td>\n",
              "      <td>Kol</td>\n",
              "      <td>8</td>\n",
              "    </tr>\n",
              "    <tr>\n",
              "      <th>5</th>\n",
              "      <td>B</td>\n",
              "      <td>Mum</td>\n",
              "      <td>9</td>\n",
              "    </tr>\n",
              "    <tr>\n",
              "      <th>6</th>\n",
              "      <td>D</td>\n",
              "      <td>Hyd</td>\n",
              "      <td>5</td>\n",
              "    </tr>\n",
              "    <tr>\n",
              "      <th>7</th>\n",
              "      <td>A</td>\n",
              "      <td>Kol</td>\n",
              "      <td>9</td>\n",
              "    </tr>\n",
              "    <tr>\n",
              "      <th>8</th>\n",
              "      <td>D</td>\n",
              "      <td>Kol</td>\n",
              "      <td>8</td>\n",
              "    </tr>\n",
              "    <tr>\n",
              "      <th>9</th>\n",
              "      <td>C</td>\n",
              "      <td>Mum</td>\n",
              "      <td>9</td>\n",
              "    </tr>\n",
              "  </tbody>\n",
              "</table>\n",
              "</div>"
            ],
            "text/plain": [
              "  id city  score\n",
              "0  A  Mum     10\n",
              "1  B  Mum      7\n",
              "2  A  Hyd      6\n",
              "3  C  Del      8\n",
              "4  A  Kol      8\n",
              "5  B  Mum      9\n",
              "6  D  Hyd      5\n",
              "7  A  Kol      9\n",
              "8  D  Kol      8\n",
              "9  C  Mum      9"
            ]
          },
          "metadata": {
            "tags": []
          },
          "execution_count": 80
        }
      ]
    },
    {
      "cell_type": "code",
      "metadata": {
        "id": "dLoGeN5hTQtP",
        "colab": {
          "base_uri": "https://localhost:8080/",
          "height": 328
        },
        "outputId": "34136b98-3e43-4d54-aaf3-26c59853eb57"
      },
      "source": [
        "q1 = q.groupby(['id','city']).size().to_frame('size')\n",
        "q1"
      ],
      "execution_count": null,
      "outputs": [
        {
          "output_type": "execute_result",
          "data": {
            "text/html": [
              "<div>\n",
              "<style scoped>\n",
              "    .dataframe tbody tr th:only-of-type {\n",
              "        vertical-align: middle;\n",
              "    }\n",
              "\n",
              "    .dataframe tbody tr th {\n",
              "        vertical-align: top;\n",
              "    }\n",
              "\n",
              "    .dataframe thead th {\n",
              "        text-align: right;\n",
              "    }\n",
              "</style>\n",
              "<table border=\"1\" class=\"dataframe\">\n",
              "  <thead>\n",
              "    <tr style=\"text-align: right;\">\n",
              "      <th></th>\n",
              "      <th></th>\n",
              "      <th>size</th>\n",
              "    </tr>\n",
              "    <tr>\n",
              "      <th>id</th>\n",
              "      <th>city</th>\n",
              "      <th></th>\n",
              "    </tr>\n",
              "  </thead>\n",
              "  <tbody>\n",
              "    <tr>\n",
              "      <th rowspan=\"3\" valign=\"top\">A</th>\n",
              "      <th>Hyd</th>\n",
              "      <td>1</td>\n",
              "    </tr>\n",
              "    <tr>\n",
              "      <th>Kol</th>\n",
              "      <td>2</td>\n",
              "    </tr>\n",
              "    <tr>\n",
              "      <th>Mum</th>\n",
              "      <td>1</td>\n",
              "    </tr>\n",
              "    <tr>\n",
              "      <th>B</th>\n",
              "      <th>Mum</th>\n",
              "      <td>2</td>\n",
              "    </tr>\n",
              "    <tr>\n",
              "      <th rowspan=\"2\" valign=\"top\">C</th>\n",
              "      <th>Del</th>\n",
              "      <td>1</td>\n",
              "    </tr>\n",
              "    <tr>\n",
              "      <th>Mum</th>\n",
              "      <td>1</td>\n",
              "    </tr>\n",
              "    <tr>\n",
              "      <th rowspan=\"2\" valign=\"top\">D</th>\n",
              "      <th>Hyd</th>\n",
              "      <td>1</td>\n",
              "    </tr>\n",
              "    <tr>\n",
              "      <th>Kol</th>\n",
              "      <td>1</td>\n",
              "    </tr>\n",
              "  </tbody>\n",
              "</table>\n",
              "</div>"
            ],
            "text/plain": [
              "         size\n",
              "id city      \n",
              "A  Hyd      1\n",
              "   Kol      2\n",
              "   Mum      1\n",
              "B  Mum      2\n",
              "C  Del      1\n",
              "   Mum      1\n",
              "D  Hyd      1\n",
              "   Kol      1"
            ]
          },
          "metadata": {
            "tags": []
          },
          "execution_count": 81
        }
      ]
    },
    {
      "cell_type": "code",
      "metadata": {
        "colab": {
          "base_uri": "https://localhost:8080/",
          "height": 359
        },
        "id": "AHVPSlo9Qs2f",
        "outputId": "7f659cc3-d5a4-4db3-d2f4-f7c9499bb836"
      },
      "source": [
        "import numpy as np\n",
        "q2= q[['id','city']]\n",
        "q2['size'] = q2.groupby(['id']).transform(np.size)\n",
        "q2"
      ],
      "execution_count": null,
      "outputs": [
        {
          "output_type": "execute_result",
          "data": {
            "text/html": [
              "<div>\n",
              "<style scoped>\n",
              "    .dataframe tbody tr th:only-of-type {\n",
              "        vertical-align: middle;\n",
              "    }\n",
              "\n",
              "    .dataframe tbody tr th {\n",
              "        vertical-align: top;\n",
              "    }\n",
              "\n",
              "    .dataframe thead th {\n",
              "        text-align: right;\n",
              "    }\n",
              "</style>\n",
              "<table border=\"1\" class=\"dataframe\">\n",
              "  <thead>\n",
              "    <tr style=\"text-align: right;\">\n",
              "      <th></th>\n",
              "      <th>id</th>\n",
              "      <th>city</th>\n",
              "      <th>size</th>\n",
              "    </tr>\n",
              "  </thead>\n",
              "  <tbody>\n",
              "    <tr>\n",
              "      <th>0</th>\n",
              "      <td>A</td>\n",
              "      <td>Mum</td>\n",
              "      <td>4</td>\n",
              "    </tr>\n",
              "    <tr>\n",
              "      <th>1</th>\n",
              "      <td>B</td>\n",
              "      <td>Mum</td>\n",
              "      <td>2</td>\n",
              "    </tr>\n",
              "    <tr>\n",
              "      <th>2</th>\n",
              "      <td>A</td>\n",
              "      <td>Hyd</td>\n",
              "      <td>4</td>\n",
              "    </tr>\n",
              "    <tr>\n",
              "      <th>3</th>\n",
              "      <td>C</td>\n",
              "      <td>Del</td>\n",
              "      <td>2</td>\n",
              "    </tr>\n",
              "    <tr>\n",
              "      <th>4</th>\n",
              "      <td>A</td>\n",
              "      <td>Kol</td>\n",
              "      <td>4</td>\n",
              "    </tr>\n",
              "    <tr>\n",
              "      <th>5</th>\n",
              "      <td>B</td>\n",
              "      <td>Mum</td>\n",
              "      <td>2</td>\n",
              "    </tr>\n",
              "    <tr>\n",
              "      <th>6</th>\n",
              "      <td>D</td>\n",
              "      <td>Hyd</td>\n",
              "      <td>2</td>\n",
              "    </tr>\n",
              "    <tr>\n",
              "      <th>7</th>\n",
              "      <td>A</td>\n",
              "      <td>Kol</td>\n",
              "      <td>4</td>\n",
              "    </tr>\n",
              "    <tr>\n",
              "      <th>8</th>\n",
              "      <td>D</td>\n",
              "      <td>Kol</td>\n",
              "      <td>2</td>\n",
              "    </tr>\n",
              "    <tr>\n",
              "      <th>9</th>\n",
              "      <td>C</td>\n",
              "      <td>Mum</td>\n",
              "      <td>2</td>\n",
              "    </tr>\n",
              "  </tbody>\n",
              "</table>\n",
              "</div>"
            ],
            "text/plain": [
              "  id city  size\n",
              "0  A  Mum     4\n",
              "1  B  Mum     2\n",
              "2  A  Hyd     4\n",
              "3  C  Del     2\n",
              "4  A  Kol     4\n",
              "5  B  Mum     2\n",
              "6  D  Hyd     2\n",
              "7  A  Kol     4\n",
              "8  D  Kol     2\n",
              "9  C  Mum     2"
            ]
          },
          "metadata": {
            "tags": []
          },
          "execution_count": 82
        }
      ]
    },
    {
      "cell_type": "code",
      "metadata": {
        "colab": {
          "base_uri": "https://localhost:8080/",
          "height": 173
        },
        "id": "95R6R2b8gNzm",
        "outputId": "ecb1edaa-a87f-4472-cd6c-a51aa1961d0a"
      },
      "source": [
        "q3=q[['id','city']]\n",
        "q3 =q3.groupby(['id']).size().reset_index(name='Size')\n",
        "q3"
      ],
      "execution_count": null,
      "outputs": [
        {
          "output_type": "execute_result",
          "data": {
            "text/html": [
              "<div>\n",
              "<style scoped>\n",
              "    .dataframe tbody tr th:only-of-type {\n",
              "        vertical-align: middle;\n",
              "    }\n",
              "\n",
              "    .dataframe tbody tr th {\n",
              "        vertical-align: top;\n",
              "    }\n",
              "\n",
              "    .dataframe thead th {\n",
              "        text-align: right;\n",
              "    }\n",
              "</style>\n",
              "<table border=\"1\" class=\"dataframe\">\n",
              "  <thead>\n",
              "    <tr style=\"text-align: right;\">\n",
              "      <th></th>\n",
              "      <th>id</th>\n",
              "      <th>Size</th>\n",
              "    </tr>\n",
              "  </thead>\n",
              "  <tbody>\n",
              "    <tr>\n",
              "      <th>0</th>\n",
              "      <td>A</td>\n",
              "      <td>4</td>\n",
              "    </tr>\n",
              "    <tr>\n",
              "      <th>1</th>\n",
              "      <td>B</td>\n",
              "      <td>2</td>\n",
              "    </tr>\n",
              "    <tr>\n",
              "      <th>2</th>\n",
              "      <td>C</td>\n",
              "      <td>2</td>\n",
              "    </tr>\n",
              "    <tr>\n",
              "      <th>3</th>\n",
              "      <td>D</td>\n",
              "      <td>2</td>\n",
              "    </tr>\n",
              "  </tbody>\n",
              "</table>\n",
              "</div>"
            ],
            "text/plain": [
              "  id  Size\n",
              "0  A     4\n",
              "1  B     2\n",
              "2  C     2\n",
              "3  D     2"
            ]
          },
          "metadata": {
            "tags": []
          },
          "execution_count": 83
        }
      ]
    },
    {
      "cell_type": "code",
      "metadata": {
        "colab": {
          "base_uri": "https://localhost:8080/"
        },
        "id": "SurZG-Rmh9Hb",
        "outputId": "01cde631-27ad-4f7f-8ad7-a0746f0b76be"
      },
      "source": [
        "q3.mean()"
      ],
      "execution_count": null,
      "outputs": [
        {
          "output_type": "execute_result",
          "data": {
            "text/plain": [
              "Size    2.5\n",
              "dtype: float64"
            ]
          },
          "metadata": {
            "tags": []
          },
          "execution_count": 84
        }
      ]
    },
    {
      "cell_type": "code",
      "metadata": {
        "colab": {
          "base_uri": "https://localhost:8080/",
          "height": 328
        },
        "id": "R9P72kvWzFKt",
        "outputId": "92f069cc-0f5d-404d-d661-b69f7480e988"
      },
      "source": [
        "q4=q[['id','score']]\n",
        "q4= q4.groupby('id').apply(lambda x: x.sort_values([\"score\"], ascending = False)).reset_index(drop=True)\n",
        "q4=q4.groupby('id').head(3)\n",
        "q4"
      ],
      "execution_count": null,
      "outputs": [
        {
          "output_type": "execute_result",
          "data": {
            "text/html": [
              "<div>\n",
              "<style scoped>\n",
              "    .dataframe tbody tr th:only-of-type {\n",
              "        vertical-align: middle;\n",
              "    }\n",
              "\n",
              "    .dataframe tbody tr th {\n",
              "        vertical-align: top;\n",
              "    }\n",
              "\n",
              "    .dataframe thead th {\n",
              "        text-align: right;\n",
              "    }\n",
              "</style>\n",
              "<table border=\"1\" class=\"dataframe\">\n",
              "  <thead>\n",
              "    <tr style=\"text-align: right;\">\n",
              "      <th></th>\n",
              "      <th>id</th>\n",
              "      <th>score</th>\n",
              "    </tr>\n",
              "  </thead>\n",
              "  <tbody>\n",
              "    <tr>\n",
              "      <th>0</th>\n",
              "      <td>A</td>\n",
              "      <td>10</td>\n",
              "    </tr>\n",
              "    <tr>\n",
              "      <th>1</th>\n",
              "      <td>A</td>\n",
              "      <td>9</td>\n",
              "    </tr>\n",
              "    <tr>\n",
              "      <th>2</th>\n",
              "      <td>A</td>\n",
              "      <td>8</td>\n",
              "    </tr>\n",
              "    <tr>\n",
              "      <th>4</th>\n",
              "      <td>B</td>\n",
              "      <td>9</td>\n",
              "    </tr>\n",
              "    <tr>\n",
              "      <th>5</th>\n",
              "      <td>B</td>\n",
              "      <td>7</td>\n",
              "    </tr>\n",
              "    <tr>\n",
              "      <th>6</th>\n",
              "      <td>C</td>\n",
              "      <td>9</td>\n",
              "    </tr>\n",
              "    <tr>\n",
              "      <th>7</th>\n",
              "      <td>C</td>\n",
              "      <td>8</td>\n",
              "    </tr>\n",
              "    <tr>\n",
              "      <th>8</th>\n",
              "      <td>D</td>\n",
              "      <td>8</td>\n",
              "    </tr>\n",
              "    <tr>\n",
              "      <th>9</th>\n",
              "      <td>D</td>\n",
              "      <td>5</td>\n",
              "    </tr>\n",
              "  </tbody>\n",
              "</table>\n",
              "</div>"
            ],
            "text/plain": [
              "  id  score\n",
              "0  A     10\n",
              "1  A      9\n",
              "2  A      8\n",
              "4  B      9\n",
              "5  B      7\n",
              "6  C      9\n",
              "7  C      8\n",
              "8  D      8\n",
              "9  D      5"
            ]
          },
          "metadata": {
            "tags": []
          },
          "execution_count": 85
        }
      ]
    },
    {
      "cell_type": "code",
      "metadata": {
        "colab": {
          "base_uri": "https://localhost:8080/",
          "height": 266
        },
        "id": "A71L21fXQrn8",
        "outputId": "825e5321-b8a2-49f2-e743-5198fc545a53"
      },
      "source": [
        "q4=q[['id','city','score']]\n",
        "q4= q4.groupby(by=['id','city'])['score'].sum().reset_index(name='sum')       #agg({'score':'sum'})\n",
        "q4= q4.groupby('id').apply(lambda x: x.sort_values([\"sum\"], ascending = False)).reset_index(drop=True)\n",
        "q4= q4.groupby('id').head(2)\n",
        "#q4=q4.groupby(['id'])['sum'].max()\n",
        "q4"
      ],
      "execution_count": null,
      "outputs": [
        {
          "output_type": "execute_result",
          "data": {
            "text/html": [
              "<div>\n",
              "<style scoped>\n",
              "    .dataframe tbody tr th:only-of-type {\n",
              "        vertical-align: middle;\n",
              "    }\n",
              "\n",
              "    .dataframe tbody tr th {\n",
              "        vertical-align: top;\n",
              "    }\n",
              "\n",
              "    .dataframe thead th {\n",
              "        text-align: right;\n",
              "    }\n",
              "</style>\n",
              "<table border=\"1\" class=\"dataframe\">\n",
              "  <thead>\n",
              "    <tr style=\"text-align: right;\">\n",
              "      <th></th>\n",
              "      <th>id</th>\n",
              "      <th>city</th>\n",
              "      <th>sum</th>\n",
              "    </tr>\n",
              "  </thead>\n",
              "  <tbody>\n",
              "    <tr>\n",
              "      <th>0</th>\n",
              "      <td>A</td>\n",
              "      <td>Kol</td>\n",
              "      <td>17</td>\n",
              "    </tr>\n",
              "    <tr>\n",
              "      <th>1</th>\n",
              "      <td>A</td>\n",
              "      <td>Mum</td>\n",
              "      <td>10</td>\n",
              "    </tr>\n",
              "    <tr>\n",
              "      <th>3</th>\n",
              "      <td>B</td>\n",
              "      <td>Mum</td>\n",
              "      <td>16</td>\n",
              "    </tr>\n",
              "    <tr>\n",
              "      <th>4</th>\n",
              "      <td>C</td>\n",
              "      <td>Mum</td>\n",
              "      <td>9</td>\n",
              "    </tr>\n",
              "    <tr>\n",
              "      <th>5</th>\n",
              "      <td>C</td>\n",
              "      <td>Del</td>\n",
              "      <td>8</td>\n",
              "    </tr>\n",
              "    <tr>\n",
              "      <th>6</th>\n",
              "      <td>D</td>\n",
              "      <td>Kol</td>\n",
              "      <td>8</td>\n",
              "    </tr>\n",
              "    <tr>\n",
              "      <th>7</th>\n",
              "      <td>D</td>\n",
              "      <td>Hyd</td>\n",
              "      <td>5</td>\n",
              "    </tr>\n",
              "  </tbody>\n",
              "</table>\n",
              "</div>"
            ],
            "text/plain": [
              "  id city  sum\n",
              "0  A  Kol   17\n",
              "1  A  Mum   10\n",
              "3  B  Mum   16\n",
              "4  C  Mum    9\n",
              "5  C  Del    8\n",
              "6  D  Kol    8\n",
              "7  D  Hyd    5"
            ]
          },
          "metadata": {
            "tags": []
          },
          "execution_count": 86
        }
      ]
    },
    {
      "cell_type": "code",
      "metadata": {
        "id": "WWMFfe54zFWO"
      },
      "source": [
        ""
      ],
      "execution_count": null,
      "outputs": []
    },
    {
      "cell_type": "code",
      "metadata": {
        "id": "1AQ6sI0ATQw1",
        "colab": {
          "base_uri": "https://localhost:8080/"
        },
        "outputId": "35c441fe-2a32-43e6-a818-96b48380fe7d"
      },
      "source": [
        "df.columns"
      ],
      "execution_count": null,
      "outputs": [
        {
          "output_type": "execute_result",
          "data": {
            "text/plain": [
              "Index(['id', 'country', 'date', 'item_name', 'iap_price'], dtype='object')"
            ]
          },
          "metadata": {
            "tags": []
          },
          "execution_count": 87
        }
      ]
    },
    {
      "cell_type": "code",
      "metadata": {
        "id": "f9E05-RESj0Q",
        "colab": {
          "base_uri": "https://localhost:8080/"
        },
        "outputId": "f17fc46a-1347-4450-86b2-72a15dd54986"
      },
      "source": [
        "#Q1-Total unique users who bought something,  and \n",
        "Q1= df[['id']].nunique()\n",
        "Q1"
      ],
      "execution_count": null,
      "outputs": [
        {
          "output_type": "execute_result",
          "data": {
            "text/plain": [
              "id    229\n",
              "dtype: int64"
            ]
          },
          "metadata": {
            "tags": []
          },
          "execution_count": 88
        }
      ]
    },
    {
      "cell_type": "code",
      "metadata": {
        "colab": {
          "base_uri": "https://localhost:8080/"
        },
        "id": "sac2tsMFYrxb",
        "outputId": "26c79f61-b17e-47a4-b1ce-ead8818fdc98"
      },
      "source": [
        "#Q1.1- how many items did they buy on average\n",
        "#Q2  - how many items did they buy on average\n",
        "\n",
        "Q11= df[['id','item_name']]\n",
        "Q11=Q11.groupby('id').size().reset_index(name='count')\n",
        "Q11.mean()"
      ],
      "execution_count": null,
      "outputs": [
        {
          "output_type": "execute_result",
          "data": {
            "text/plain": [
              "count    3.89083\n",
              "dtype: float64"
            ]
          },
          "metadata": {
            "tags": []
          },
          "execution_count": 89
        }
      ]
    },
    {
      "cell_type": "code",
      "metadata": {
        "colab": {
          "base_uri": "https://localhost:8080/",
          "height": 731
        },
        "id": "JZOOrXcfwVC-",
        "outputId": "20eeb102-18f1-41c0-f0b0-09b7d5469a51"
      },
      "source": [
        "#Q1.11- the average price point of each item bought \n",
        "#Q3- the average price point of each item bought\n",
        "\n",
        "Q111=df[['item_name','iap_price']]\n",
        "Q111=Q111.groupby('item_name').agg({'iap_price':['count','sum', 'mean']})\n",
        "Q111 "
      ],
      "execution_count": null,
      "outputs": [
        {
          "output_type": "execute_result",
          "data": {
            "text/html": [
              "<div>\n",
              "<style scoped>\n",
              "    .dataframe tbody tr th:only-of-type {\n",
              "        vertical-align: middle;\n",
              "    }\n",
              "\n",
              "    .dataframe tbody tr th {\n",
              "        vertical-align: top;\n",
              "    }\n",
              "\n",
              "    .dataframe thead tr th {\n",
              "        text-align: left;\n",
              "    }\n",
              "\n",
              "    .dataframe thead tr:last-of-type th {\n",
              "        text-align: right;\n",
              "    }\n",
              "</style>\n",
              "<table border=\"1\" class=\"dataframe\">\n",
              "  <thead>\n",
              "    <tr>\n",
              "      <th></th>\n",
              "      <th colspan=\"3\" halign=\"left\">iap_price</th>\n",
              "    </tr>\n",
              "    <tr>\n",
              "      <th></th>\n",
              "      <th>count</th>\n",
              "      <th>sum</th>\n",
              "      <th>mean</th>\n",
              "    </tr>\n",
              "    <tr>\n",
              "      <th>item_name</th>\n",
              "      <th></th>\n",
              "      <th></th>\n",
              "      <th></th>\n",
              "    </tr>\n",
              "  </thead>\n",
              "  <tbody>\n",
              "    <tr>\n",
              "      <th>911</th>\n",
              "      <td>14</td>\n",
              "      <td>98.45</td>\n",
              "      <td>7.032143</td>\n",
              "    </tr>\n",
              "    <tr>\n",
              "      <th>SUV</th>\n",
              "      <td>10</td>\n",
              "      <td>80.88</td>\n",
              "      <td>8.088000</td>\n",
              "    </tr>\n",
              "    <tr>\n",
              "      <th>all_cars</th>\n",
              "      <td>43</td>\n",
              "      <td>673.86</td>\n",
              "      <td>15.671163</td>\n",
              "    </tr>\n",
              "    <tr>\n",
              "      <th>bargain</th>\n",
              "      <td>53</td>\n",
              "      <td>177.56</td>\n",
              "      <td>3.350189</td>\n",
              "    </tr>\n",
              "    <tr>\n",
              "      <th>best_buy</th>\n",
              "      <td>302</td>\n",
              "      <td>3130.62</td>\n",
              "      <td>10.366291</td>\n",
              "    </tr>\n",
              "    <tr>\n",
              "      <th>budget</th>\n",
              "      <td>104</td>\n",
              "      <td>168.37</td>\n",
              "      <td>1.618942</td>\n",
              "    </tr>\n",
              "    <tr>\n",
              "      <th>buses</th>\n",
              "      <td>13</td>\n",
              "      <td>31.16</td>\n",
              "      <td>2.396923</td>\n",
              "    </tr>\n",
              "    <tr>\n",
              "      <th>concept</th>\n",
              "      <td>15</td>\n",
              "      <td>123.37</td>\n",
              "      <td>8.224667</td>\n",
              "    </tr>\n",
              "    <tr>\n",
              "      <th>crazy</th>\n",
              "      <td>13</td>\n",
              "      <td>31.36</td>\n",
              "      <td>2.412308</td>\n",
              "    </tr>\n",
              "    <tr>\n",
              "      <th>designer</th>\n",
              "      <td>13</td>\n",
              "      <td>24.76</td>\n",
              "      <td>1.904615</td>\n",
              "    </tr>\n",
              "    <tr>\n",
              "      <th>essential</th>\n",
              "      <td>57</td>\n",
              "      <td>52.86</td>\n",
              "      <td>0.927368</td>\n",
              "    </tr>\n",
              "    <tr>\n",
              "      <th>everything</th>\n",
              "      <td>65</td>\n",
              "      <td>1326.78</td>\n",
              "      <td>20.412000</td>\n",
              "    </tr>\n",
              "    <tr>\n",
              "      <th>hatchback</th>\n",
              "      <td>9</td>\n",
              "      <td>12.70</td>\n",
              "      <td>1.411111</td>\n",
              "    </tr>\n",
              "    <tr>\n",
              "      <th>hot_del</th>\n",
              "      <td>86</td>\n",
              "      <td>346.90</td>\n",
              "      <td>4.033721</td>\n",
              "    </tr>\n",
              "    <tr>\n",
              "      <th>muscle</th>\n",
              "      <td>12</td>\n",
              "      <td>73.33</td>\n",
              "      <td>6.110833</td>\n",
              "    </tr>\n",
              "    <tr>\n",
              "      <th>sedan</th>\n",
              "      <td>11</td>\n",
              "      <td>38.27</td>\n",
              "      <td>3.479091</td>\n",
              "    </tr>\n",
              "    <tr>\n",
              "      <th>sports</th>\n",
              "      <td>15</td>\n",
              "      <td>123.04</td>\n",
              "      <td>8.202667</td>\n",
              "    </tr>\n",
              "    <tr>\n",
              "      <th>steal</th>\n",
              "      <td>32</td>\n",
              "      <td>125.52</td>\n",
              "      <td>3.922500</td>\n",
              "    </tr>\n",
              "    <tr>\n",
              "      <th>trucks</th>\n",
              "      <td>13</td>\n",
              "      <td>110.13</td>\n",
              "      <td>8.471538</td>\n",
              "    </tr>\n",
              "    <tr>\n",
              "      <th>vintage</th>\n",
              "      <td>11</td>\n",
              "      <td>34.02</td>\n",
              "      <td>3.092727</td>\n",
              "    </tr>\n",
              "  </tbody>\n",
              "</table>\n",
              "</div>"
            ],
            "text/plain": [
              "           iap_price                    \n",
              "               count      sum       mean\n",
              "item_name                               \n",
              "911               14    98.45   7.032143\n",
              "SUV               10    80.88   8.088000\n",
              "all_cars          43   673.86  15.671163\n",
              "bargain           53   177.56   3.350189\n",
              "best_buy         302  3130.62  10.366291\n",
              "budget           104   168.37   1.618942\n",
              "buses             13    31.16   2.396923\n",
              "concept           15   123.37   8.224667\n",
              "crazy             13    31.36   2.412308\n",
              "designer          13    24.76   1.904615\n",
              "essential         57    52.86   0.927368\n",
              "everything        65  1326.78  20.412000\n",
              "hatchback          9    12.70   1.411111\n",
              "hot_del           86   346.90   4.033721\n",
              "muscle            12    73.33   6.110833\n",
              "sedan             11    38.27   3.479091\n",
              "sports            15   123.04   8.202667\n",
              "steal             32   125.52   3.922500\n",
              "trucks            13   110.13   8.471538\n",
              "vintage           11    34.02   3.092727"
            ]
          },
          "metadata": {
            "tags": []
          },
          "execution_count": 90
        }
      ]
    },
    {
      "cell_type": "code",
      "metadata": {
        "id": "Lo29ggk-Sj8C",
        "colab": {
          "base_uri": "https://localhost:8080/"
        },
        "outputId": "e4b14daf-58aa-4b2b-e550-1449d908ca1a"
      },
      "source": [
        "#Q4-Total items sold and the average price point of the items overall.\n",
        "\n",
        "df.columns"
      ],
      "execution_count": null,
      "outputs": [
        {
          "output_type": "execute_result",
          "data": {
            "text/plain": [
              "Index(['id', 'country', 'date', 'item_name', 'iap_price'], dtype='object')"
            ]
          },
          "metadata": {
            "tags": []
          },
          "execution_count": 91
        }
      ]
    },
    {
      "cell_type": "code",
      "metadata": {
        "colab": {
          "base_uri": "https://localhost:8080/"
        },
        "id": "3kcxRTCkbHal",
        "outputId": "433e2286-8075-432c-d5e2-c9f1cd881ab8"
      },
      "source": [
        "Q4= df[['item_name']]\n",
        "Q4.count()"
      ],
      "execution_count": null,
      "outputs": [
        {
          "output_type": "execute_result",
          "data": {
            "text/plain": [
              "item_name    891\n",
              "dtype: int64"
            ]
          },
          "metadata": {
            "tags": []
          },
          "execution_count": 92
        }
      ]
    },
    {
      "cell_type": "code",
      "metadata": {
        "colab": {
          "base_uri": "https://localhost:8080/",
          "height": 142
        },
        "id": "AxUF4ronbHc9",
        "outputId": "2c9d9452-ad77-46c1-b982-cf57113a5be3"
      },
      "source": [
        "Q41=df[['item_name','iap_price']]\n",
        "Q41.agg({'iap_price':['sum','count','mean']})"
      ],
      "execution_count": null,
      "outputs": [
        {
          "output_type": "execute_result",
          "data": {
            "text/html": [
              "<div>\n",
              "<style scoped>\n",
              "    .dataframe tbody tr th:only-of-type {\n",
              "        vertical-align: middle;\n",
              "    }\n",
              "\n",
              "    .dataframe tbody tr th {\n",
              "        vertical-align: top;\n",
              "    }\n",
              "\n",
              "    .dataframe thead th {\n",
              "        text-align: right;\n",
              "    }\n",
              "</style>\n",
              "<table border=\"1\" class=\"dataframe\">\n",
              "  <thead>\n",
              "    <tr style=\"text-align: right;\">\n",
              "      <th></th>\n",
              "      <th>iap_price</th>\n",
              "    </tr>\n",
              "  </thead>\n",
              "  <tbody>\n",
              "    <tr>\n",
              "      <th>sum</th>\n",
              "      <td>6783.94000</td>\n",
              "    </tr>\n",
              "    <tr>\n",
              "      <th>count</th>\n",
              "      <td>891.00000</td>\n",
              "    </tr>\n",
              "    <tr>\n",
              "      <th>mean</th>\n",
              "      <td>7.61385</td>\n",
              "    </tr>\n",
              "  </tbody>\n",
              "</table>\n",
              "</div>"
            ],
            "text/plain": [
              "        iap_price\n",
              "sum    6783.94000\n",
              "count   891.00000\n",
              "mean      7.61385"
            ]
          },
          "metadata": {
            "tags": []
          },
          "execution_count": 93
        }
      ]
    },
    {
      "cell_type": "code",
      "metadata": {
        "id": "shB3S6SQSj94",
        "colab": {
          "base_uri": "https://localhost:8080/"
        },
        "outputId": "4d35bf3a-dcf8-4e57-e274-20d42cebdd10"
      },
      "source": [
        "#Q5-Top 3 items sold daily and revenue from these Top 3 items daily.\n",
        "\n",
        "df.columns"
      ],
      "execution_count": null,
      "outputs": [
        {
          "output_type": "execute_result",
          "data": {
            "text/plain": [
              "Index(['id', 'country', 'date', 'item_name', 'iap_price'], dtype='object')"
            ]
          },
          "metadata": {
            "tags": []
          },
          "execution_count": 94
        }
      ]
    },
    {
      "cell_type": "code",
      "metadata": {
        "colab": {
          "base_uri": "https://localhost:8080/",
          "height": 669
        },
        "id": "JzNEBO8GX9lf",
        "outputId": "761b4ac4-eb56-480d-ee09-9c01a5370952"
      },
      "source": [
        "Q5=df[[ 'date', 'item_name', 'iap_price']]\n",
        "Q5= Q5.groupby(by=['date','item_name'])['iap_price'].sum().reset_index(name='sum')       #agg({'score':'sum'})\n",
        "Q5= Q5.groupby('date').apply(lambda x: x.sort_values([\"sum\"], ascending = False)).reset_index(drop=True)\n",
        "Q5=Q5.groupby('date').head(3)   #.reset_index(drop=True)\n",
        "#q4=q4.groupby(['id'])['sum'].max()\n",
        "Q5.head(20)"
      ],
      "execution_count": null,
      "outputs": [
        {
          "output_type": "execute_result",
          "data": {
            "text/html": [
              "<div>\n",
              "<style scoped>\n",
              "    .dataframe tbody tr th:only-of-type {\n",
              "        vertical-align: middle;\n",
              "    }\n",
              "\n",
              "    .dataframe tbody tr th {\n",
              "        vertical-align: top;\n",
              "    }\n",
              "\n",
              "    .dataframe thead th {\n",
              "        text-align: right;\n",
              "    }\n",
              "</style>\n",
              "<table border=\"1\" class=\"dataframe\">\n",
              "  <thead>\n",
              "    <tr style=\"text-align: right;\">\n",
              "      <th></th>\n",
              "      <th>date</th>\n",
              "      <th>item_name</th>\n",
              "      <th>sum</th>\n",
              "    </tr>\n",
              "  </thead>\n",
              "  <tbody>\n",
              "    <tr>\n",
              "      <th>0</th>\n",
              "      <td>1-Mar-19</td>\n",
              "      <td>best_buy</td>\n",
              "      <td>283.15</td>\n",
              "    </tr>\n",
              "    <tr>\n",
              "      <th>1</th>\n",
              "      <td>1-Mar-19</td>\n",
              "      <td>everything</td>\n",
              "      <td>155.88</td>\n",
              "    </tr>\n",
              "    <tr>\n",
              "      <th>2</th>\n",
              "      <td>1-Mar-19</td>\n",
              "      <td>SUV</td>\n",
              "      <td>29.97</td>\n",
              "    </tr>\n",
              "    <tr>\n",
              "      <th>20</th>\n",
              "      <td>10-Feb-19</td>\n",
              "      <td>hot_del</td>\n",
              "      <td>0.82</td>\n",
              "    </tr>\n",
              "    <tr>\n",
              "      <th>21</th>\n",
              "      <td>10-Mar-19</td>\n",
              "      <td>best_buy</td>\n",
              "      <td>63.82</td>\n",
              "    </tr>\n",
              "    <tr>\n",
              "      <th>22</th>\n",
              "      <td>10-Mar-19</td>\n",
              "      <td>all_cars</td>\n",
              "      <td>49.98</td>\n",
              "    </tr>\n",
              "    <tr>\n",
              "      <th>23</th>\n",
              "      <td>10-Mar-19</td>\n",
              "      <td>everything</td>\n",
              "      <td>31.45</td>\n",
              "    </tr>\n",
              "    <tr>\n",
              "      <th>36</th>\n",
              "      <td>11-Mar-19</td>\n",
              "      <td>best_buy</td>\n",
              "      <td>170.75</td>\n",
              "    </tr>\n",
              "    <tr>\n",
              "      <th>37</th>\n",
              "      <td>11-Mar-19</td>\n",
              "      <td>everything</td>\n",
              "      <td>159.95</td>\n",
              "    </tr>\n",
              "    <tr>\n",
              "      <th>38</th>\n",
              "      <td>11-Mar-19</td>\n",
              "      <td>all_cars</td>\n",
              "      <td>24.99</td>\n",
              "    </tr>\n",
              "    <tr>\n",
              "      <th>45</th>\n",
              "      <td>12-Mar-19</td>\n",
              "      <td>best_buy</td>\n",
              "      <td>743.78</td>\n",
              "    </tr>\n",
              "    <tr>\n",
              "      <th>46</th>\n",
              "      <td>12-Mar-19</td>\n",
              "      <td>everything</td>\n",
              "      <td>91.23</td>\n",
              "    </tr>\n",
              "    <tr>\n",
              "      <th>47</th>\n",
              "      <td>12-Mar-19</td>\n",
              "      <td>all_cars</td>\n",
              "      <td>76.18</td>\n",
              "    </tr>\n",
              "    <tr>\n",
              "      <th>63</th>\n",
              "      <td>13-Mar-19</td>\n",
              "      <td>everything</td>\n",
              "      <td>36.13</td>\n",
              "    </tr>\n",
              "    <tr>\n",
              "      <th>64</th>\n",
              "      <td>13-Mar-19</td>\n",
              "      <td>best_buy</td>\n",
              "      <td>28.89</td>\n",
              "    </tr>\n",
              "    <tr>\n",
              "      <th>65</th>\n",
              "      <td>13-Mar-19</td>\n",
              "      <td>budget</td>\n",
              "      <td>16.72</td>\n",
              "    </tr>\n",
              "    <tr>\n",
              "      <th>77</th>\n",
              "      <td>14-Mar-19</td>\n",
              "      <td>everything</td>\n",
              "      <td>30.59</td>\n",
              "    </tr>\n",
              "    <tr>\n",
              "      <th>78</th>\n",
              "      <td>14-Mar-19</td>\n",
              "      <td>best_buy</td>\n",
              "      <td>2.80</td>\n",
              "    </tr>\n",
              "    <tr>\n",
              "      <th>79</th>\n",
              "      <td>14-Mar-19</td>\n",
              "      <td>essential</td>\n",
              "      <td>0.62</td>\n",
              "    </tr>\n",
              "    <tr>\n",
              "      <th>80</th>\n",
              "      <td>16-Feb-19</td>\n",
              "      <td>essential</td>\n",
              "      <td>1.98</td>\n",
              "    </tr>\n",
              "  </tbody>\n",
              "</table>\n",
              "</div>"
            ],
            "text/plain": [
              "         date   item_name     sum\n",
              "0    1-Mar-19    best_buy  283.15\n",
              "1    1-Mar-19  everything  155.88\n",
              "2    1-Mar-19         SUV   29.97\n",
              "20  10-Feb-19     hot_del    0.82\n",
              "21  10-Mar-19    best_buy   63.82\n",
              "22  10-Mar-19    all_cars   49.98\n",
              "23  10-Mar-19  everything   31.45\n",
              "36  11-Mar-19    best_buy  170.75\n",
              "37  11-Mar-19  everything  159.95\n",
              "38  11-Mar-19    all_cars   24.99\n",
              "45  12-Mar-19    best_buy  743.78\n",
              "46  12-Mar-19  everything   91.23\n",
              "47  12-Mar-19    all_cars   76.18\n",
              "63  13-Mar-19  everything   36.13\n",
              "64  13-Mar-19    best_buy   28.89\n",
              "65  13-Mar-19      budget   16.72\n",
              "77  14-Mar-19  everything   30.59\n",
              "78  14-Mar-19    best_buy    2.80\n",
              "79  14-Mar-19   essential    0.62\n",
              "80  16-Feb-19   essential    1.98"
            ]
          },
          "metadata": {
            "tags": []
          },
          "execution_count": 95
        }
      ]
    },
    {
      "cell_type": "code",
      "metadata": {
        "id": "zGjXf8z8TIny",
        "colab": {
          "base_uri": "https://localhost:8080/",
          "height": 450
        },
        "outputId": "4570616e-ccb3-4fc9-a7fb-9ee6d600f2d1"
      },
      "source": [
        "#Q6-Total revenue made from each item broken down by country and day.\n",
        "\n",
        "Q6=df[['country', 'date', 'item_name', 'iap_price']]\n",
        "Q6=Q6.groupby([ 'date','country', 'item_name']).sum()\n",
        "Q6"
      ],
      "execution_count": null,
      "outputs": [
        {
          "output_type": "execute_result",
          "data": {
            "text/html": [
              "<div>\n",
              "<style scoped>\n",
              "    .dataframe tbody tr th:only-of-type {\n",
              "        vertical-align: middle;\n",
              "    }\n",
              "\n",
              "    .dataframe tbody tr th {\n",
              "        vertical-align: top;\n",
              "    }\n",
              "\n",
              "    .dataframe thead th {\n",
              "        text-align: right;\n",
              "    }\n",
              "</style>\n",
              "<table border=\"1\" class=\"dataframe\">\n",
              "  <thead>\n",
              "    <tr style=\"text-align: right;\">\n",
              "      <th></th>\n",
              "      <th></th>\n",
              "      <th></th>\n",
              "      <th>iap_price</th>\n",
              "    </tr>\n",
              "    <tr>\n",
              "      <th>date</th>\n",
              "      <th>country</th>\n",
              "      <th>item_name</th>\n",
              "      <th></th>\n",
              "    </tr>\n",
              "  </thead>\n",
              "  <tbody>\n",
              "    <tr>\n",
              "      <th rowspan=\"5\" valign=\"top\">1-Mar-19</th>\n",
              "      <th rowspan=\"5\" valign=\"top\">Brazil</th>\n",
              "      <th>911</th>\n",
              "      <td>0.76</td>\n",
              "    </tr>\n",
              "    <tr>\n",
              "      <th>all_cars</th>\n",
              "      <td>1.35</td>\n",
              "    </tr>\n",
              "    <tr>\n",
              "      <th>bargain</th>\n",
              "      <td>2.84</td>\n",
              "    </tr>\n",
              "    <tr>\n",
              "      <th>best_buy</th>\n",
              "      <td>60.90</td>\n",
              "    </tr>\n",
              "    <tr>\n",
              "      <th>budget</th>\n",
              "      <td>0.77</td>\n",
              "    </tr>\n",
              "    <tr>\n",
              "      <th>...</th>\n",
              "      <th>...</th>\n",
              "      <th>...</th>\n",
              "      <td>...</td>\n",
              "    </tr>\n",
              "    <tr>\n",
              "      <th>9-Feb-19</th>\n",
              "      <th>United States</th>\n",
              "      <th>budget</th>\n",
              "      <td>1.99</td>\n",
              "    </tr>\n",
              "    <tr>\n",
              "      <th rowspan=\"4\" valign=\"top\">9-Mar-19</th>\n",
              "      <th>Israel</th>\n",
              "      <th>essential</th>\n",
              "      <td>0.99</td>\n",
              "    </tr>\n",
              "    <tr>\n",
              "      <th>United Kingdom</th>\n",
              "      <th>911</th>\n",
              "      <td>0.39</td>\n",
              "    </tr>\n",
              "    <tr>\n",
              "      <th rowspan=\"2\" valign=\"top\">United States</th>\n",
              "      <th>budget</th>\n",
              "      <td>1.99</td>\n",
              "    </tr>\n",
              "    <tr>\n",
              "      <th>everything</th>\n",
              "      <td>34.99</td>\n",
              "    </tr>\n",
              "  </tbody>\n",
              "</table>\n",
              "<p>465 rows × 1 columns</p>\n",
              "</div>"
            ],
            "text/plain": [
              "                                    iap_price\n",
              "date     country        item_name            \n",
              "1-Mar-19 Brazil         911              0.76\n",
              "                        all_cars         1.35\n",
              "                        bargain          2.84\n",
              "                        best_buy        60.90\n",
              "                        budget           0.77\n",
              "...                                       ...\n",
              "9-Feb-19 United States  budget           1.99\n",
              "9-Mar-19 Israel         essential        0.99\n",
              "         United Kingdom 911              0.39\n",
              "         United States  budget           1.99\n",
              "                        everything      34.99\n",
              "\n",
              "[465 rows x 1 columns]"
            ]
          },
          "metadata": {
            "tags": []
          },
          "execution_count": 96
        }
      ]
    },
    {
      "cell_type": "code",
      "metadata": {
        "id": "SIQWEEQiYcJv"
      },
      "source": [
        ""
      ],
      "execution_count": null,
      "outputs": []
    },
    {
      "cell_type": "code",
      "metadata": {
        "id": "tGRuBaFbTIqE"
      },
      "source": [
        ""
      ],
      "execution_count": null,
      "outputs": []
    },
    {
      "cell_type": "code",
      "metadata": {
        "id": "Daqs-SXoTIsa"
      },
      "source": [
        ""
      ],
      "execution_count": null,
      "outputs": []
    }
  ]
}